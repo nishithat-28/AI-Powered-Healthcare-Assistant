{
 "cells": [
  {
   "cell_type": "markdown",
   "id": "3eeaa32b",
   "metadata": {
    "_cell_guid": "b1076dfc-b9ad-4769-8c92-a6c4dae69d19",
    "_uuid": "8f2839f25d086af736a60e9eeb907d3b93b6e0e5",
    "papermill": {
     "duration": 0.011319,
     "end_time": "2025-05-17T13:25:34.756220",
     "exception": false,
     "start_time": "2025-05-17T13:25:34.744901",
     "status": "completed"
    },
    "tags": []
   },
   "source": [
    "# GenAI-Powered Healthcare Assistant: Smarter Symptom Insights with Gemini\n",
    "\n",
    "## Introduction\n",
    "In a world where health concerns can arise at any moment, people often turn to the internet to make sense of their symptoms. Unfortunately, the answers they find are usually generic, overwhelming, or even misleading. What if there was a way to get personalized, conversational, and medically informed responses using the power of Generative AI?\n",
    "\n",
    "This project leverages **Google's Gemini models** to create an intelligent healthcare assistant that can engage in natural dialogue, interpret symptoms, suggest possible diagnoses, and recommend next steps—all within seconds.\n",
    "\n",
    "Target Audience: The primary audience for this **AI-Powered Healthcare Assistant** includes:\n",
    "\n",
    "- Patients: Individuals seeking immediate, reliable information about their symptoms and potential health conditions.\n",
    "- Healthcare Providers: Medical professionals looking for tools to enhance patient engagement and streamline the diagnostic process.\n",
    "- Caregivers: Family members or friends assisting patients in managing health concerns and seeking appropriate care.\n",
    "\n",
    "## Problem Statement\n",
    "Traditional symptom checkers and online search results often lack personalization and contextual accuracy. Users are either bombarded with too much irrelevant information or given vague responses that leave them confused. There's a growing need for a smarter, more interactive system that provides **reliable and human-like health guidance** based on user inputs.\n",
    "\n",
    "\n",
    "\n",
    "## Proposed Solution\n",
    "We present a **GenAI-powered healthcare chatbot** that:\n",
    "- Understands and processes natural language symptom descriptions,\n",
    "- Identifies likely medical conditions,\n",
    "- Provides treatment suggestions and preventive tips,\n",
    "- Retrieves relevant medical knowledge from a custom-trained database (RAG),\n",
    "- Responds in both human-friendly paragraphs and structured JSON formats for API-readiness.\n",
    "\n",
    "\n",
    "\n",
    "## Techniques Used\n",
    "- **Google Gemini 2.0 Flash API** for conversational AI and content generation.\n",
    "- **Prompt Engineering**: Few-shot prompting for high-quality, domain-specific responses.\n",
    "- **Config Tuning**: Fine control using temperature, top-p, and token limits.\n",
    "- **Structured Output**: Enforcing JSON response schema using TypedDict.\n",
    "- **Retrieval-Augmented Generation (RAG)**: Using ChromaDB and Gemini embeddings to pull in relevant medical knowledge based on symptoms.\n",
    "- **SQL Integration**: Simulating a backend with SQLite for structured symptom-to-diagnosis mappings.\n",
    "- **Interactive Chat**: Maintaining session-based chats for natural interaction.\n",
    "\n",
    "\n",
    "\n",
    "This notebook blends **conversational AI**, **information retrieval**, and **structured data workflows** to deliver a robust prototype for intelligent virtual healthcare support.\n"
   ]
  },
  {
   "cell_type": "code",
   "execution_count": 1,
   "id": "a6699d54",
   "metadata": {
    "execution": {
     "iopub.execute_input": "2025-05-17T13:25:34.778052Z",
     "iopub.status.busy": "2025-05-17T13:25:34.777733Z",
     "iopub.status.idle": "2025-05-17T13:25:41.113462Z",
     "shell.execute_reply": "2025-05-17T13:25:41.112472Z"
    },
    "papermill": {
     "duration": 6.348139,
     "end_time": "2025-05-17T13:25:41.115155",
     "exception": false,
     "start_time": "2025-05-17T13:25:34.767016",
     "status": "completed"
    },
    "tags": []
   },
   "outputs": [
    {
     "name": "stdout",
     "output_type": "stream",
     "text": [
      "\u001b[2K   \u001b[90m━━━━━━━━━━━━━━━━━━━━━━━━━━━━━━━━━━━━━━━━\u001b[0m \u001b[32m144.7/144.7 kB\u001b[0m \u001b[31m3.7 MB/s\u001b[0m eta \u001b[36m0:00:00\u001b[0m\r\n",
      "\u001b[2K   \u001b[90m━━━━━━━━━━━━━━━━━━━━━━━━━━━━━━━━━━━━━━━━\u001b[0m \u001b[32m100.9/100.9 kB\u001b[0m \u001b[31m4.9 MB/s\u001b[0m eta \u001b[36m0:00:00\u001b[0m\r\n",
      "\u001b[?25h"
     ]
    }
   ],
   "source": [
    "!pip install -U -q \"google-genai==1.7.0\""
   ]
  },
  {
   "cell_type": "code",
   "execution_count": 2,
   "id": "d2de693b",
   "metadata": {
    "execution": {
     "iopub.execute_input": "2025-05-17T13:25:41.137074Z",
     "iopub.status.busy": "2025-05-17T13:25:41.136749Z",
     "iopub.status.idle": "2025-05-17T13:25:42.319013Z",
     "shell.execute_reply": "2025-05-17T13:25:42.318324Z"
    },
    "papermill": {
     "duration": 1.195318,
     "end_time": "2025-05-17T13:25:42.320723",
     "exception": false,
     "start_time": "2025-05-17T13:25:41.125405",
     "status": "completed"
    },
    "tags": []
   },
   "outputs": [],
   "source": [
    "from google import genai\n",
    "from google.genai import types\n",
    "\n",
    "from IPython.display import HTML, Markdown, display"
   ]
  },
  {
   "cell_type": "code",
   "execution_count": 3,
   "id": "14d8fb12",
   "metadata": {
    "execution": {
     "iopub.execute_input": "2025-05-17T13:25:42.342594Z",
     "iopub.status.busy": "2025-05-17T13:25:42.342064Z",
     "iopub.status.idle": "2025-05-17T13:25:42.697378Z",
     "shell.execute_reply": "2025-05-17T13:25:42.696495Z"
    },
    "papermill": {
     "duration": 0.367943,
     "end_time": "2025-05-17T13:25:42.699058",
     "exception": false,
     "start_time": "2025-05-17T13:25:42.331115",
     "status": "completed"
    },
    "tags": []
   },
   "outputs": [],
   "source": [
    "from google.api_core import retry\n",
    "\n",
    "\n",
    "is_retriable = lambda e: (isinstance(e, genai.errors.APIError) and e.code in {429, 503})\n",
    "\n",
    "genai.models.Models.generate_content = retry.Retry(\n",
    "    predicate=is_retriable)(genai.models.Models.generate_content)"
   ]
  },
  {
   "cell_type": "code",
   "execution_count": 4,
   "id": "a9dae780",
   "metadata": {
    "execution": {
     "iopub.execute_input": "2025-05-17T13:25:42.722085Z",
     "iopub.status.busy": "2025-05-17T13:25:42.721238Z",
     "iopub.status.idle": "2025-05-17T13:25:43.171988Z",
     "shell.execute_reply": "2025-05-17T13:25:43.171316Z"
    },
    "papermill": {
     "duration": 0.463708,
     "end_time": "2025-05-17T13:25:43.173512",
     "exception": false,
     "start_time": "2025-05-17T13:25:42.709804",
     "status": "completed"
    },
    "tags": []
   },
   "outputs": [],
   "source": [
    "from kaggle_secrets import UserSecretsClient\n",
    "\n",
    "GOOGLE_API_KEY = UserSecretsClient().get_secret(\"GOOGLE_API_KEY\")\n",
    "client = genai.Client(api_key=GOOGLE_API_KEY)"
   ]
  },
  {
   "cell_type": "markdown",
   "id": "e00479dc",
   "metadata": {
    "papermill": {
     "duration": 0.009609,
     "end_time": "2025-05-17T13:25:43.193153",
     "exception": false,
     "start_time": "2025-05-17T13:25:43.183544",
     "status": "completed"
    },
    "tags": []
   },
   "source": [
    "Testing out the model by giving a sample prompt"
   ]
  },
  {
   "cell_type": "code",
   "execution_count": 5,
   "id": "af56e1d4",
   "metadata": {
    "execution": {
     "iopub.execute_input": "2025-05-17T13:25:43.214221Z",
     "iopub.status.busy": "2025-05-17T13:25:43.213919Z",
     "iopub.status.idle": "2025-05-17T13:25:44.861593Z",
     "shell.execute_reply": "2025-05-17T13:25:44.860331Z"
    },
    "papermill": {
     "duration": 1.660102,
     "end_time": "2025-05-17T13:25:44.863082",
     "exception": false,
     "start_time": "2025-05-17T13:25:43.202980",
     "status": "completed"
    },
    "tags": []
   },
   "outputs": [
    {
     "name": "stdout",
     "output_type": "stream",
     "text": [
      "I am an AI and cannot provide medical advice. Experiencing a high temperature and coughing could be due to a number of reasons, including:\n",
      "\n",
      "*   **Common Cold:** Usually accompanied by other symptoms like a runny nose, sore throat, and body aches.\n",
      "*   **Flu (Influenza):** Similar to a cold but often more severe, with higher fever, body aches, and fatigue.\n",
      "*   **COVID-19:** Can have a wide range of symptoms, including fever, cough, loss of taste or smell, and shortness of breath.\n",
      "*   **Bronchitis:** Inflammation of the bronchial tubes, often causing a persistent cough.\n",
      "*   **Pneumonia:** An infection of the lungs that can cause a high fever, cough, and difficulty breathing.\n",
      "\n",
      "**It is important to consult with a healthcare professional or doctor for an accurate diagnosis and appropriate treatment. Self-treating can be dangerous.**\n"
     ]
    }
   ],
   "source": [
    "# Sample Prompt\n",
    "response = client.models.generate_content(\n",
    "    model=\"gemini-2.0-flash\",\n",
    "    contents=\"I am experiencing high temperature and coughing. What am I suffering with?\")\n",
    "\n",
    "print(response.text)"
   ]
  },
  {
   "cell_type": "markdown",
   "id": "24325675",
   "metadata": {
    "papermill": {
     "duration": 0.009728,
     "end_time": "2025-05-17T13:25:44.883568",
     "exception": false,
     "start_time": "2025-05-17T13:25:44.873840",
     "status": "completed"
    },
    "tags": []
   },
   "source": [
    "The output from the previous prompt is displayed as plain text. Consider formatting it properly using **Markdown** to enhance readability and user experience."
   ]
  },
  {
   "cell_type": "code",
   "execution_count": 6,
   "id": "8d8ee049",
   "metadata": {
    "execution": {
     "iopub.execute_input": "2025-05-17T13:25:44.905068Z",
     "iopub.status.busy": "2025-05-17T13:25:44.904715Z",
     "iopub.status.idle": "2025-05-17T13:25:44.912031Z",
     "shell.execute_reply": "2025-05-17T13:25:44.911045Z"
    },
    "papermill": {
     "duration": 0.020163,
     "end_time": "2025-05-17T13:25:44.913689",
     "exception": false,
     "start_time": "2025-05-17T13:25:44.893526",
     "status": "completed"
    },
    "tags": []
   },
   "outputs": [
    {
     "data": {
      "text/markdown": [
       "I am an AI and cannot provide medical advice. Experiencing a high temperature and coughing could be due to a number of reasons, including:\n",
       "\n",
       "*   **Common Cold:** Usually accompanied by other symptoms like a runny nose, sore throat, and body aches.\n",
       "*   **Flu (Influenza):** Similar to a cold but often more severe, with higher fever, body aches, and fatigue.\n",
       "*   **COVID-19:** Can have a wide range of symptoms, including fever, cough, loss of taste or smell, and shortness of breath.\n",
       "*   **Bronchitis:** Inflammation of the bronchial tubes, often causing a persistent cough.\n",
       "*   **Pneumonia:** An infection of the lungs that can cause a high fever, cough, and difficulty breathing.\n",
       "\n",
       "**It is important to consult with a healthcare professional or doctor for an accurate diagnosis and appropriate treatment. Self-treating can be dangerous.**"
      ],
      "text/plain": [
       "<IPython.core.display.Markdown object>"
      ]
     },
     "execution_count": 6,
     "metadata": {},
     "output_type": "execute_result"
    }
   ],
   "source": [
    "# Markdown format\n",
    "Markdown(response.text)"
   ]
  },
  {
   "cell_type": "markdown",
   "id": "52d3042a",
   "metadata": {
    "papermill": {
     "duration": 0.010069,
     "end_time": "2025-05-17T13:25:44.934498",
     "exception": false,
     "start_time": "2025-05-17T13:25:44.924429",
     "status": "completed"
    },
    "tags": []
   },
   "source": [
    "We can also start a chat session using the Gemini model. It sends a simple message to begin the conversation. The chat keeps `history`, so it can remember what was said earlier in the conversation.\n"
   ]
  },
  {
   "cell_type": "code",
   "execution_count": 7,
   "id": "95690ee0",
   "metadata": {
    "execution": {
     "iopub.execute_input": "2025-05-17T13:25:44.957091Z",
     "iopub.status.busy": "2025-05-17T13:25:44.956291Z",
     "iopub.status.idle": "2025-05-17T13:25:45.409880Z",
     "shell.execute_reply": "2025-05-17T13:25:45.408847Z"
    },
    "papermill": {
     "duration": 0.466832,
     "end_time": "2025-05-17T13:25:45.411646",
     "exception": false,
     "start_time": "2025-05-17T13:25:44.944814",
     "status": "completed"
    },
    "tags": []
   },
   "outputs": [
    {
     "data": {
      "text/markdown": [
       "Yes, of course! Ask away. I'm ready to answer it if I can.\n"
      ],
      "text/plain": [
       "<IPython.core.display.Markdown object>"
      ]
     },
     "execution_count": 7,
     "metadata": {},
     "output_type": "execute_result"
    }
   ],
   "source": [
    "# Starting a chat session\n",
    "chat = client.chats.create(model='gemini-2.0-flash', history=[])\n",
    "response = chat.send_message('Hey. Can I ask you a question?')\n",
    "Markdown(response.text)"
   ]
  },
  {
   "cell_type": "code",
   "execution_count": 8,
   "id": "124c8a5e",
   "metadata": {
    "execution": {
     "iopub.execute_input": "2025-05-17T13:25:45.435301Z",
     "iopub.status.busy": "2025-05-17T13:25:45.434971Z",
     "iopub.status.idle": "2025-05-17T13:25:52.246906Z",
     "shell.execute_reply": "2025-05-17T13:25:52.245966Z"
    },
    "papermill": {
     "duration": 6.825975,
     "end_time": "2025-05-17T13:25:52.248533",
     "exception": false,
     "start_time": "2025-05-17T13:25:45.422558",
     "status": "completed"
    },
    "tags": []
   },
   "outputs": [
    {
     "data": {
      "text/markdown": [
       "Okay, a persistent cough can be really annoying! Since it's been going on for many days, it's definitely a good idea to figure out what's causing it. **I am not a doctor, so I can't give you medical advice or diagnose you. The best thing to do is to see a doctor or other qualified healthcare professional to get a proper diagnosis and treatment plan.**\n",
       "\n",
       "However, I can tell you some general information about coughs and what you can do while you wait to see a doctor, or to help manage symptoms in addition to your doctor's recommendations.\n",
       "\n",
       "**Things a doctor will consider:**\n",
       "\n",
       "*   **How long have you had the cough?** This helps determine if it's acute (short-term) or chronic (long-term).\n",
       "*   **What kind of cough is it?** Is it dry, productive (bringing up mucus), hacking, whooping, etc.?\n",
       "*   **What are your other symptoms?** Fever, sore throat, runny nose, chest pain, shortness of breath, fatigue, etc.?\n",
       "*   **Do you have any underlying health conditions?** Asthma, COPD, allergies, etc.?\n",
       "*   **Are you taking any medications?** Some medications can cause a cough as a side effect.\n",
       "*   **Do you smoke or are you exposed to secondhand smoke?**\n",
       "*   **Have you been exposed to any irritants or allergens?**\n",
       "\n",
       "**Potential Causes:**\n",
       "\n",
       "Coughs can be caused by a variety of things, including:\n",
       "\n",
       "*   **Common Cold/Flu:** Usually accompanied by other symptoms like runny nose, sore throat, and fever.\n",
       "*   **Bronchitis:** Inflammation of the bronchial tubes, often causing a productive cough.\n",
       "*   **Pneumonia:** Infection of the lungs, often causing a cough with phlegm, fever, and chest pain.\n",
       "*   **Allergies:** Can cause a dry cough, especially during allergy season.\n",
       "*   **Asthma:** Can cause coughing, wheezing, and shortness of breath.\n",
       "*   **GERD (Gastroesophageal Reflux Disease):** Stomach acid refluxing into the esophagus can irritate the throat and cause a cough.\n",
       "*   **Postnasal Drip:** Mucus draining down the back of the throat can trigger a cough.\n",
       "*   **Whooping Cough (Pertussis):** A highly contagious bacterial infection that causes severe coughing fits.\n",
       "*   **COPD (Chronic Obstructive Pulmonary Disease):** A lung disease that causes airflow obstruction and can lead to chronic cough.\n",
       "*   **Smoking:** A common cause of chronic cough.\n",
       "*   **ACE Inhibitors:** Certain blood pressure medications can cause a dry cough.\n",
       "\n",
       "**What you can do in the meantime (for symptom relief, *not* as a replacement for medical advice):**\n",
       "\n",
       "*   **Stay Hydrated:** Drink plenty of fluids, especially water, to help thin mucus.\n",
       "*   **Honey:** A spoonful of honey can help soothe a cough, especially for children over 1 year old. (Do not give honey to infants under 1 year old due to the risk of botulism.)\n",
       "*   **Steam:** Take a hot shower or use a humidifier to moisten the air and loosen congestion.\n",
       "*   **Rest:** Get plenty of rest to help your body heal.\n",
       "*   **Over-the-Counter Medications:**\n",
       "    *   **Cough Suppressants (e.g., Dextromethorphan):** Can help reduce the urge to cough, especially for dry coughs.\n",
       "    *   **Expectorants (e.g., Guaifenesin):** Can help thin mucus and make it easier to cough up.\n",
       "    *   **Decongestants (e.g., Pseudoephedrine, Phenylephrine):** Can help relieve nasal congestion, which can contribute to postnasal drip.  **Be careful with decongestants if you have high blood pressure or heart problems.**\n",
       "    *   **Pain Relievers (e.g., Acetaminophen, Ibuprofen):** Can help relieve fever and body aches.\n",
       "*   **Avoid Irritants:** Stay away from smoke, dust, and other irritants that can worsen your cough.\n",
       "*   **Elevate Your Head:** Sleeping with your head elevated can help reduce postnasal drip and ease coughing at night.\n",
       "*   **Salt Water Gargle:** Gargling with warm salt water can soothe a sore throat.\n",
       "\n",
       "**When to see a doctor *immediately*:**\n",
       "\n",
       "*   **Difficulty breathing or shortness of breath.**\n",
       "*   **Chest pain.**\n",
       "*   **Coughing up blood.**\n",
       "*   **High fever (over 103°F or 39.4°C).**\n",
       "*   **Bluish lips or face.**\n",
       "*   **Severe weakness or dizziness.**\n",
       "*   **If you have a chronic medical condition like asthma or COPD and your cough is getting worse.**\n",
       "*   **If your cough lasts for more than 3 weeks.**\n",
       "*   **If you are concerned about your symptoms.**\n",
       "\n",
       "**In summary, while there are things you can do to help manage your cough, it's really important to see a doctor to get a diagnosis and rule out any serious underlying conditions, especially since it's been going on for days. Don't delay seeking professional medical advice.**\n",
       "\n",
       "I hope this information is helpful. Good luck, and I hope you feel better soon! Remember to consult with a healthcare professional for proper diagnosis and treatment.\n"
      ],
      "text/plain": [
       "<IPython.core.display.Markdown object>"
      ]
     },
     "execution_count": 8,
     "metadata": {},
     "output_type": "execute_result"
    }
   ],
   "source": [
    "response = chat.send_message('I have been coughing from many days. How should I treat it?')\n",
    "Markdown(response.text)"
   ]
  },
  {
   "cell_type": "code",
   "execution_count": 9,
   "id": "5cebed52",
   "metadata": {
    "execution": {
     "iopub.execute_input": "2025-05-17T13:25:52.272209Z",
     "iopub.status.busy": "2025-05-17T13:25:52.271924Z",
     "iopub.status.idle": "2025-05-17T13:25:52.786017Z",
     "shell.execute_reply": "2025-05-17T13:25:52.785030Z"
    },
    "papermill": {
     "duration": 0.527824,
     "end_time": "2025-05-17T13:25:52.787654",
     "exception": false,
     "start_time": "2025-05-17T13:25:52.259830",
     "status": "completed"
    },
    "tags": []
   },
   "outputs": [
    {
     "data": {
      "text/markdown": [
       "You mentioned experiencing a **cough for many days**. That's the symptom you initially described.\n"
      ],
      "text/plain": [
       "<IPython.core.display.Markdown object>"
      ]
     },
     "execution_count": 9,
     "metadata": {},
     "output_type": "execute_result"
    }
   ],
   "source": [
    "response = chat.send_message('What is the symptom that i mentioned earlier?')\n",
    "Markdown(response.text)"
   ]
  },
  {
   "cell_type": "markdown",
   "id": "60f034ed",
   "metadata": {
    "execution": {
     "iopub.execute_input": "2025-04-14T15:53:47.589845Z",
     "iopub.status.busy": "2025-04-14T15:53:47.589543Z",
     "iopub.status.idle": "2025-04-14T15:53:47.593646Z",
     "shell.execute_reply": "2025-04-14T15:53:47.592803Z",
     "shell.execute_reply.started": "2025-04-14T15:53:47.589824Z"
    },
    "papermill": {
     "duration": 0.010286,
     "end_time": "2025-05-17T13:25:52.808881",
     "exception": false,
     "start_time": "2025-05-17T13:25:52.798595",
     "status": "completed"
    },
    "tags": []
   },
   "source": [
    "# **Customizing Gemini AI for Healthcare Assistance**\n",
    "\n",
    "To ensure the responses generated by the healthcare assistant are aligned with the specific requirements of the application, it is often necessary to adjust the model's configuration. Gemini AI offers several powerful features that support such customization, enabling control over the tone, creativity, focus, and length of the output.\n",
    "\n",
    "These configurable parameters allow the system to produce context-aware and user-friendly responses—an essential aspect when dealing with healthcare-related queries.\n",
    "\n",
    "Some of the key features available for customization include:\n"
   ]
  },
  {
   "cell_type": "markdown",
   "id": "bd55d616",
   "metadata": {
    "papermill": {
     "duration": 0.010598,
     "end_time": "2025-05-17T13:25:52.829986",
     "exception": false,
     "start_time": "2025-05-17T13:25:52.819388",
     "status": "completed"
    },
    "tags": []
   },
   "source": [
    "### **Max Output Tokens**\n",
    "In the context of a healthcare assistant, this parameter can be adjusted based on the desired level of detail. Lower values may be suitable for brief suggestions or symptom confirmations, while higher values are useful for more detailed explanations or structured outputs like treatment plans.\n"
   ]
  },
  {
   "cell_type": "code",
   "execution_count": 10,
   "id": "328d6c9c",
   "metadata": {
    "execution": {
     "iopub.execute_input": "2025-05-17T13:25:52.852337Z",
     "iopub.status.busy": "2025-05-17T13:25:52.852035Z",
     "iopub.status.idle": "2025-05-17T13:25:53.768993Z",
     "shell.execute_reply": "2025-05-17T13:25:53.768205Z"
    },
    "papermill": {
     "duration": 0.929861,
     "end_time": "2025-05-17T13:25:53.770445",
     "exception": false,
     "start_time": "2025-05-17T13:25:52.840584",
     "status": "completed"
    },
    "tags": []
   },
   "outputs": [
    {
     "data": {
      "text/markdown": [
       "Okay, let's explore some remedies for treating a cold and cough.  It's important to remember that I am an AI and cannot provide medical advice.  If your symptoms are severe, persistent, or you have underlying health conditions, **please consult with a doctor or other qualified healthcare professional.**\n",
       "\n",
       "**Home Remedies & Supportive Care:**\n",
       "\n",
       "*   **Rest:**  This is crucial.  Your body needs energy to fight off the virus. Get plenty of sleep and avoid strenuous activity."
      ],
      "text/plain": [
       "<IPython.core.display.Markdown object>"
      ]
     },
     "execution_count": 10,
     "metadata": {},
     "output_type": "execute_result"
    }
   ],
   "source": [
    "# Output length \n",
    "from google.genai import types\n",
    "\n",
    "short_config = types.GenerateContentConfig(max_output_tokens=100)\n",
    "\n",
    "response = client.models.generate_content(\n",
    "    model='gemini-2.0-flash',\n",
    "    config=short_config,\n",
    "    contents='Give me remedies to treat cold and cough')\n",
    "\n",
    "Markdown(response.text)"
   ]
  },
  {
   "cell_type": "markdown",
   "id": "def239a3",
   "metadata": {
    "papermill": {
     "duration": 0.010382,
     "end_time": "2025-05-17T13:25:53.791538",
     "exception": false,
     "start_time": "2025-05-17T13:25:53.781156",
     "status": "completed"
    },
    "tags": []
   },
   "source": [
    "### **Temperature** \n",
    "For a healthcare assistant, where responses often need to be clear, consistent, and fact-based, lower temperature values are generally preferred. These produce more deterministic and focused outputs. In contrast, higher temperatures introduce more variation and creativity, which may be useful for generating broad wellness advice or alternative suggestions.\n",
    "\n",
    "A temperature of `0` results in highly predictable outputs, selecting the most likely tokens every time, while higher values allow for a wider range of responses."
   ]
  },
  {
   "cell_type": "code",
   "execution_count": 11,
   "id": "0d39be49",
   "metadata": {
    "execution": {
     "iopub.execute_input": "2025-05-17T13:25:53.874736Z",
     "iopub.status.busy": "2025-05-17T13:25:53.874112Z",
     "iopub.status.idle": "2025-05-17T13:25:53.878353Z",
     "shell.execute_reply": "2025-05-17T13:25:53.877515Z"
    },
    "papermill": {
     "duration": 0.016951,
     "end_time": "2025-05-17T13:25:53.879644",
     "exception": false,
     "start_time": "2025-05-17T13:25:53.862693",
     "status": "completed"
    },
    "tags": []
   },
   "outputs": [],
   "source": [
    "# Temperatures\n",
    "low_temp_config = types.GenerateContentConfig(temperature=0.0)\n",
    "high_temp_config = types.GenerateContentConfig(temperature=2.0)"
   ]
  },
  {
   "cell_type": "code",
   "execution_count": 12,
   "id": "da393080",
   "metadata": {
    "execution": {
     "iopub.execute_input": "2025-05-17T13:25:53.902889Z",
     "iopub.status.busy": "2025-05-17T13:25:53.902548Z",
     "iopub.status.idle": "2025-05-17T13:25:55.905987Z",
     "shell.execute_reply": "2025-05-17T13:25:55.904974Z"
    },
    "papermill": {
     "duration": 2.016582,
     "end_time": "2025-05-17T13:25:55.907384",
     "exception": false,
     "start_time": "2025-05-17T13:25:53.890802",
     "status": "completed"
    },
    "tags": []
   },
   "outputs": [
    {
     "name": "stdout",
     "output_type": "stream",
     "text": [
      "Pneumonia\n",
      " -------------------------\n",
      "Pneumonia\n",
      " -------------------------\n",
      "Pneumonia\n",
      " -------------------------\n",
      "Pneumonia\n",
      " -------------------------\n",
      "Pneumonia\n",
      " -------------------------\n"
     ]
    }
   ],
   "source": [
    "# Configuring with low temperature \n",
    "for _ in range(5):\n",
    "  response = client.models.generate_content(\n",
    "      model='gemini-2.0-flash',\n",
    "      config=low_temp_config,\n",
    "      contents='Give me a name of a disease in random in a single word')\n",
    "\n",
    "  if response.text:\n",
    "    print(response.text, '-' * 25)"
   ]
  },
  {
   "cell_type": "code",
   "execution_count": 13,
   "id": "13dd5882",
   "metadata": {
    "execution": {
     "iopub.execute_input": "2025-05-17T13:25:55.930871Z",
     "iopub.status.busy": "2025-05-17T13:25:55.930547Z",
     "iopub.status.idle": "2025-05-17T13:26:00.411036Z",
     "shell.execute_reply": "2025-05-17T13:26:00.409925Z"
    },
    "papermill": {
     "duration": 4.494497,
     "end_time": "2025-05-17T13:26:00.413023",
     "exception": false,
     "start_time": "2025-05-17T13:25:55.918526",
     "status": "completed"
    },
    "tags": []
   },
   "outputs": [
    {
     "name": "stdout",
     "output_type": "stream",
     "text": [
      "Gout\n",
      " -------------------------\n",
      "Tuberculosis\n",
      " -------------------------\n",
      "Tuberculosis\n",
      " -------------------------\n",
      "Measles\n",
      " -------------------------\n",
      "Eczema\n",
      " -------------------------\n"
     ]
    }
   ],
   "source": [
    "# Configuring with high temperature \n",
    "for _ in range(5):\n",
    "  response = client.models.generate_content(\n",
    "      model='gemini-2.0-flash',\n",
    "      config=high_temp_config,\n",
    "      contents='Give me a name of a disease in random in a single word')\n",
    "\n",
    "  if response.text:\n",
    "    print(response.text, '-' * 25)"
   ]
  },
  {
   "cell_type": "markdown",
   "id": "00236a70",
   "metadata": {
    "papermill": {
     "duration": 0.011637,
     "end_time": "2025-05-17T13:26:00.436617",
     "exception": false,
     "start_time": "2025-05-17T13:26:00.424980",
     "status": "completed"
    },
    "tags": []
   },
   "source": [
    "### **Top-p**\n",
    "Top-p is used to define the randomess of tokens selected by a model."
   ]
  },
  {
   "cell_type": "code",
   "execution_count": 14,
   "id": "7d6f0270",
   "metadata": {
    "execution": {
     "iopub.execute_input": "2025-05-17T13:26:00.462087Z",
     "iopub.status.busy": "2025-05-17T13:26:00.461102Z",
     "iopub.status.idle": "2025-05-17T13:26:02.348594Z",
     "shell.execute_reply": "2025-05-17T13:26:02.347703Z"
    },
    "papermill": {
     "duration": 1.90196,
     "end_time": "2025-05-17T13:26:02.350426",
     "exception": false,
     "start_time": "2025-05-17T13:26:00.448466",
     "status": "completed"
    },
    "tags": []
   },
   "outputs": [
    {
     "data": {
      "text/markdown": [
       "COVID-19, short for Coronavirus Disease 2019, is an infectious disease caused by the SARS-CoV-2 virus. Primarily spread through respiratory droplets produced when an infected person coughs, sneezes, talks, or breathes, it can cause a wide range of symptoms, from mild cold-like symptoms such as fever, cough, and fatigue, to severe illness including pneumonia, acute respiratory distress syndrome, and even death. The virus has led to a global pandemic, causing widespread disruption to healthcare systems, economies, and daily life, and prompting the development and deployment of vaccines and treatments to mitigate its impact.\n"
      ],
      "text/plain": [
       "<IPython.core.display.Markdown object>"
      ]
     },
     "execution_count": 14,
     "metadata": {},
     "output_type": "execute_result"
    }
   ],
   "source": [
    "# Response with lower randomess\n",
    "top_p_config = types.GenerateContentConfig(top_p=0.1, max_output_tokens=200)\n",
    "\n",
    "response = client.models.generate_content(\n",
    "    model='gemini-2.0-flash',\n",
    "    config=top_p_config,\n",
    "    contents='Describe COVID-19 in a paragraph')\n",
    "\n",
    "Markdown(response.text)"
   ]
  },
  {
   "cell_type": "code",
   "execution_count": 15,
   "id": "8b3ff966",
   "metadata": {
    "execution": {
     "iopub.execute_input": "2025-05-17T13:26:02.376406Z",
     "iopub.status.busy": "2025-05-17T13:26:02.376072Z",
     "iopub.status.idle": "2025-05-17T13:26:03.306061Z",
     "shell.execute_reply": "2025-05-17T13:26:03.305061Z"
    },
    "papermill": {
     "duration": 0.944331,
     "end_time": "2025-05-17T13:26:03.307823",
     "exception": false,
     "start_time": "2025-05-17T13:26:02.363492",
     "status": "completed"
    },
    "tags": []
   },
   "outputs": [
    {
     "data": {
      "text/markdown": [
       "COVID-19, short for Coronavirus Disease 2019, is a contagious respiratory illness caused by the SARS-CoV-2 virus.  It primarily spreads through respiratory droplets produced when an infected person coughs, sneezes, talks, or breathes. Symptoms range from mild, like fever, cough, and fatigue, to severe, including pneumonia, acute respiratory distress syndrome, and even death. The virus can affect various organs, leading to long-term health issues. While vaccines and treatments have reduced the severity and spread, COVID-19 remains a global health concern requiring ongoing monitoring, vaccination efforts, and preventative measures.\n"
      ],
      "text/plain": [
       "<IPython.core.display.Markdown object>"
      ]
     },
     "execution_count": 15,
     "metadata": {},
     "output_type": "execute_result"
    }
   ],
   "source": [
    "# Response with higher randomness\n",
    "top_p_config = types.GenerateContentConfig(top_p=1.0, max_output_tokens=200)\n",
    "\n",
    "response = client.models.generate_content(\n",
    "    model='gemini-2.0-flash',\n",
    "    config=top_p_config,\n",
    "    contents='Describe COVID-19 in a paragraph')\n",
    "\n",
    "Markdown(response.text)"
   ]
  },
  {
   "cell_type": "markdown",
   "id": "9fb5ec1a",
   "metadata": {
    "papermill": {
     "duration": 0.012098,
     "end_time": "2025-05-17T13:26:03.332433",
     "exception": false,
     "start_time": "2025-05-17T13:26:03.320335",
     "status": "completed"
    },
    "tags": []
   },
   "source": [
    "### **Few Shot Prompting**\n",
    "The function `healthcare_assistant` in the code leverages Few-shot Prompting to guide the language model to process symptoms and generate medical insights in a specific format (JSON in this case). \n",
    "By providing a small number of example inputs and their corresponding outputs, the model can understand how to respond to new, unseen inputs in a similar manner. The output JSON includes:\n",
    "\n",
    "- The symptoms extracted from the input.\n",
    "\n",
    "- Possible conditions based on the symptoms.\n",
    "\n",
    "- Relevant medical advice or recommendations."
   ]
  },
  {
   "cell_type": "code",
   "execution_count": 16,
   "id": "8fe70dea",
   "metadata": {
    "execution": {
     "iopub.execute_input": "2025-05-17T13:26:03.357842Z",
     "iopub.status.busy": "2025-05-17T13:26:03.357474Z",
     "iopub.status.idle": "2025-05-17T13:26:04.206007Z",
     "shell.execute_reply": "2025-05-17T13:26:04.204842Z"
    },
    "papermill": {
     "duration": 0.863289,
     "end_time": "2025-05-17T13:26:04.207678",
     "exception": false,
     "start_time": "2025-05-17T13:26:03.344389",
     "status": "completed"
    },
    "tags": []
   },
   "outputs": [
    {
     "data": {
      "text/markdown": [
       "```json\n",
       "{\n",
       "    \"symptoms\": [\"nausea\", \"headache\"],\n",
       "    \"possible_conditions\": [\"Migraine\", \"Food Poisoning\", \"Dehydration\"],\n",
       "    \"recommendations\": [\n",
       "        \"Stay hydrated.\",\n",
       "        \"Rest in a quiet, dark room.\",\n",
       "        \"Take over-the-counter pain relievers as directed.\",\n",
       "        \"If symptoms worsen or persist, consult a doctor.\"\n",
       "    ]\n",
       "}\n",
       "```"
      ],
      "text/plain": [
       "<IPython.core.display.Markdown object>"
      ]
     },
     "execution_count": 16,
     "metadata": {},
     "output_type": "execute_result"
    }
   ],
   "source": [
    "# Few-shot Prompting\n",
    "def healthcare_assistant(symptoms):\n",
    "    # Few-shot examples included in the prompt\n",
    "    few_shot_prompt = \"\"\"Parse a user's symptoms into valid JSON for medical insights:\n",
    "\n",
    "    EXAMPLE:\n",
    "    I have a fever and sore throat.\n",
    "    JSON Response:\n",
    "    ```\n",
    "    {\n",
    "        \"symptoms\": [\"fever\", \"sore throat\"],\n",
    "        \"possible_conditions\": [\"Common Cold\",\"Flu\"],\n",
    "        \"recommendations\": [\n",
    "            \"Stay hydrated and rest.\",\n",
    "            \"Use lozenges to soothe your throat.\",\n",
    "            \"Consult a doctor if symptoms persist for more than three days.\"\n",
    "        ]\n",
    "    }\n",
    "    ```\n",
    "\n",
    "    EXAMPLE:\n",
    "    I'm experiencing chest pain and shortness of breath.\n",
    "    JSON Response:\n",
    "    ```\n",
    "    {\n",
    "        \"symptoms\": [\"chest pain\", \"shortness of breath\"],\n",
    "        \"possible_conditions\": [\"Heart Disease\",\"Panic Attack\"],\n",
    "        \"recommendations\": [\n",
    "            \"Seek immediate medical attention.\",\n",
    "            \"Avoid stressful activities.\",\n",
    "            \"Schedule a consultation with a cardiologist.\"\n",
    "        ]\n",
    "    }\n",
    "    ```\n",
    "\n",
    "    USER SYMPTOMS:\n",
    "    \"\"\"\n",
    "    response = client.models.generate_content(\n",
    "    model='gemini-2.0-flash',\n",
    "    config=types.GenerateContentConfig(\n",
    "        temperature=0.1,\n",
    "        top_p=1,\n",
    "        max_output_tokens=250,\n",
    "    ),\n",
    "    contents=[few_shot_prompt, symptoms])\n",
    "\n",
    "    return response.text\n",
    "\n",
    "# Example Usage\n",
    "customer_symptoms = \"I feel nauseous and have a headache.\"\n",
    "output = healthcare_assistant(customer_symptoms)\n",
    "Markdown(output)"
   ]
  },
  {
   "cell_type": "markdown",
   "id": "8cb5fc3e",
   "metadata": {
    "papermill": {
     "duration": 0.011321,
     "end_time": "2025-05-17T13:26:04.231088",
     "exception": false,
     "start_time": "2025-05-17T13:26:04.219767",
     "status": "completed"
    },
    "tags": []
   },
   "source": [
    "Few-shot prompting applies examples of text to direct the response of the model while JSON schema applies to impose a strict, structured response to ensure that the output corresponds to the specified format"
   ]
  },
  {
   "cell_type": "code",
   "execution_count": 17,
   "id": "e39d0d74",
   "metadata": {
    "execution": {
     "iopub.execute_input": "2025-05-17T13:26:04.255645Z",
     "iopub.status.busy": "2025-05-17T13:26:04.255246Z",
     "iopub.status.idle": "2025-05-17T13:26:46.458884Z",
     "shell.execute_reply": "2025-05-17T13:26:46.457770Z"
    },
    "papermill": {
     "duration": 42.229148,
     "end_time": "2025-05-17T13:26:46.471648",
     "exception": false,
     "start_time": "2025-05-17T13:26:04.242500",
     "status": "completed"
    },
    "tags": []
   },
   "outputs": [
    {
     "name": "stdout",
     "output_type": "stream",
     "text": [
      "{\n",
      "  \"symptoms\": [\"persistent fatigue\", \"muscle pains\"],\n",
      "  \"possible_conditions\": [\"fibromyalgia\", \"chronic fatigue syndrome\", \"vitamin D deficiency\", \"hypothyroidism\"],\n",
      "  \"recommendations\": [\"Consult a doctor for diagnosis and treatment\", \"Consider blood tests to check vitamin levels and thyroid function\", \"Explore pain management strategies\", \"Prioritize rest and stress reduction\"]\n",
      "}\n"
     ]
    }
   ],
   "source": [
    "# JSON Mode\n",
    "import typing_extensions as typing\n",
    "\n",
    "class HealthcareAssistent(typing.TypedDict):\n",
    "    symptoms: list[str]\n",
    "    possible_conditions: list[str]\n",
    "    recommendations: list[str]\n",
    "\n",
    "\n",
    "response = client.models.generate_content(\n",
    "    model='gemini-2.0-flash',\n",
    "    config=types.GenerateContentConfig(\n",
    "        temperature=0.15, # degree of randomeness\n",
    "        top_p=0.5, # number of tokens used\n",
    "        response_mime_type=\"application/json\",\n",
    "        response_schema=HealthcareAssistent,\n",
    "    ),\n",
    "    contents=\"I have persistent fatigue and muscle pains.\")\n",
    "\n",
    "print(response.text)"
   ]
  },
  {
   "cell_type": "markdown",
   "id": "35f8db20",
   "metadata": {
    "papermill": {
     "duration": 0.011424,
     "end_time": "2025-05-17T13:26:46.494554",
     "exception": false,
     "start_time": "2025-05-17T13:26:46.483130",
     "status": "completed"
    },
    "tags": []
   },
   "source": [
    "# RAG (Retrieval-Augmented Generation) and Its Role in AI-Powered Healthcare Assistant\n",
    "\n",
    "**RAG (Retrieval-Augmented Generation)** is a method based on the integration of **information retrieval** and **generative models** to enhance responsiveness and relevance of the response. The operation is carried out by initially retrieving associated data or documents from a query and then producing an answer by integrating the retrieved content along with the response abilities of the model. This method enhances the answers to a richer quality with more context so that the resulting answers are well-informed and correct where alone, the model's training would not be able to capture every subtlety.\n",
    "\n",
    "### Why use RAG for healthcare assistant?\n",
    "RAG is useful to an AI-based health assistant by facilitating dynamic information retrieval from the outside world, e.g., medical stores or files. Upon receiving user input in terms of symptoms or medication requests, the assistant queries against the knowledge store, retrieves pertinent data, and builds contextual correct answers. Through this activity, the assistant provides up-to-date as well as accurate information, enhancing user satisfaction and facilitating sound decision-making.\n",
    "\n",
    "I utilized **ChromaDB** as the vector database to store and retrieve pertinent medical documents. Upon a user submitting a query (e.g., \"What do I do if I am nauseous after eating peanuts?\"), the system first queries the database for pertinent documents using the **embedding function**.\n",
    "Once the system identifies the most appropriate document(s), it merges the information with the generative model to create a response exclusively for the user's question.\n",
    "\n",
    "### Data Source\n",
    "The data for this project was sourced into **11 small medical documents** available on the official NHS website [Illnesses and conditions](https://www.nhsinform.scot/illnesses-and-conditions/)  \n",
    "These documents contain information about various medical conditions, symptoms, and treatments. "
   ]
  },
  {
   "cell_type": "code",
   "execution_count": 18,
   "id": "59f97d32",
   "metadata": {
    "execution": {
     "iopub.execute_input": "2025-05-17T13:26:46.519855Z",
     "iopub.status.busy": "2025-05-17T13:26:46.519248Z",
     "iopub.status.idle": "2025-05-17T13:26:46.529639Z",
     "shell.execute_reply": "2025-05-17T13:26:46.528561Z"
    },
    "papermill": {
     "duration": 0.025415,
     "end_time": "2025-05-17T13:26:46.531594",
     "exception": false,
     "start_time": "2025-05-17T13:26:46.506179",
     "status": "completed"
    },
    "tags": []
   },
   "outputs": [
    {
     "name": "stdout",
     "output_type": "stream",
     "text": [
      "Number of documents: 11\n"
     ]
    }
   ],
   "source": [
    "data=\"\"\"A cold is a common mild viral infection that typically affects the nose and throat and usually resolves within 1 to 2 weeks. Symptoms include a sore throat, blocked or runny nose, sneezing, cough, hoarse voice, and general fatigue, while less frequent symptoms may involve fever, headache, earache, muscle aches, mild eye irritation, and loss of taste and smell. Remedies to alleviate symptoms include getting plenty of rest, staying hydrated, eating a balanced diet, taking over-the-counter pain relief for fever and aches, using decongestants for nasal congestion, and trying home remedies like gargling salt water or sucking menthol sweets. Preventive measures include regular handwashing, coughing or sneezing into tissues, and avoiding sharing utensils, towels, or toys to reduce the spread.\n",
    "\n",
    "Flu, or influenza, is a common viral illness that spreads easily, particularly during the winter months. It often comes on quickly with symptoms such as a sudden high fever, tiredness, headaches, general aches, a dry cough, sore throat, and chills. Additional symptoms can include loss of appetite, nausea, vomiting, diarrhea, and nasal congestion. Most people recover within a week, though fatigue and a lingering cough may persist longer. To alleviate symptoms, rest, stay hydrated, keep warm, and take over-the-counter medications like paracetamol or ibuprofen for fever and aches. Preventive measures include regular handwashing, covering your mouth and nose when sneezing or coughing, cleaning commonly touched surfaces, avoiding close contact with others while infectious, and getting the annual flu vaccine to stay protected.\n",
    "\n",
    "Allergies occur when the body's immune system reacts to certain substances, known as allergens, as if they are harmful. Allergies are common, affecting over 1 in 4 people in the UK, and they can develop at any age. Common allergens include pollen, dust mites, animal dander, certain foods like nuts and shellfish, insect stings, medications, latex, mould, and household chemicals. Symptoms of an allergic reaction usually appear quickly and can include sneezing, a runny or blocked nose, red and itchy eyes, wheezing, coughing, skin rashes, and worsened asthma or eczema. Severe reactions, such as anaphylaxis, require urgent medical treatment. Allergies can often be managed by avoiding allergens and using treatments like antihistamines, decongestants, creams, and steroids. For severe cases, immunotherapy may be recommended to gradually reduce sensitivity to allergens. Preventing allergic reactions involves maintaining good hygiene, reading food labels, and minimizing exposure to known allergens.\n",
    "\n",
    "High blood pressure (hypertension) is a condition where the force of blood against the walls of the arteries is consistently too high, increasing the risk of cardiovascular diseases like heart attack or stroke. It is typically diagnosed when blood pressure readings are regularly above 140/90 mmHg. Common risk factors include a high-fat or high-salt diet, lack of exercise, obesity, smoking, excessive alcohol intake, stress, certain medications, and underlying conditions like kidney disease or diabetes. Hypertension often has no symptoms, but in rare cases, it may cause headaches, blurred vision, nosebleeds, or shortness of breath. Managing high blood pressure involves regular exercise, a healthy low-salt diet, reduced alcohol and caffeine intake, weight loss if necessary, and relaxation techniques such as yoga. Medications such as ACE inhibitors, calcium channel blockers, or beta-blockers may be prescribed and might need to be taken long-term. Monitoring blood pressure regularly is essential to ensure effective treatment and lifestyle adjustments.\n",
    "\n",
    "Arthritis is a common condition that causes pain and inflammation in the joints, affecting people of all ages, including children. The two most common types are osteoarthritis and rheumatoid arthritis, but other types include gout, ankylosing spondylitis, and psoriatic arthritis. Symptoms vary depending on the type but generally include joint pain, tenderness, stiffness, inflammation, restricted movement, weakness, and warm, red skin around the joints. While there is no cure, treatments like painkillers, NSAIDs, corticosteroids, disease-modifying anti-rheumatic drugs (DMARDs), physiotherapy, and regular exercise can help manage the condition. In severe cases, surgery such as joint replacement or fusion may be necessary. Protecting joints through proper posture, using supportive tools, and making ergonomic adjustments at home can reduce strain and prevent further damage. Occupational therapy can assist with maintaining independence in daily tasks, and a tailored approach combining treatments is often the most effective way to manage arthritis.\n",
    "\n",
    "Migraine is a common health condition that often begins in early adulthood, affecting around 1 in 5 women and 1 in 15 men. It is characterized by a throbbing headache, typically on one side of the head, which may occur frequently or sporadically over years. Symptoms can include nausea, vomiting, sensitivity to light and sound, sweating, dizziness, and abdominal pain, often lasting between 4 hours to 3 days, with some people also experiencing aura, such as visual disturbances or tingling sensations, before the headache. Triggers can include hormonal changes, stress, fatigue, dietary factors like caffeine or chocolate, dehydration, and environmental stimuli like bright lights or loud sounds. Though the exact cause is unknown, it is linked to abnormal brain activity and may have a genetic component. Managing migraines involves identifying triggers, maintaining a healthy lifestyle, and using treatments like painkillers or prescribed medications. Proper diagnosis by a GP is essential to rule out other conditions and determine the appropriate course of action.\n",
    "\n",
    "Irritable bowel syndrome (IBS) is a common, long-term condition of the digestive system that can persist throughout life, though symptoms may change over time. It does not pose a serious risk to physical health and is not linked to cancer or other bowel-related diseases. The exact cause is unknown, but symptoms such as abdominal pain or cramping, changes in bowel habits (diarrhoea or constipation), bloating, and excessive wind can vary in severity and often worsen with stress or certain foods. Less common symptoms include lethargy, nausea, and heartburn. IBS can impact daily life and may lead to stress or low mood. Diagnosis typically involves symptom history and tests to rule out other conditions like coeliac disease. Management strategies include working with a GP to identify triggers and avoid dietary changes until necessary testing is completed. While IBS can be managed with the right approach, further symptoms such as unexplained weight loss, bleeding, or lumps should prompt urgent medical evaluation.\n",
    "\n",
    "Urinary tract infections (UTIs) are common infections affecting the bladder, kidneys, and related tubes, with women more likely to experience them. UTIs can cause symptoms like frequent or painful urination, cloudy or foul-smelling urine, and lower abdominal pain, while upper UTIs may include fever, back pain, and nausea. Most UTIs are treated with antibiotics and improve within 3 to 5 days, though chronic UTIs may require longer treatments. Preventive measures include staying hydrated, wiping from front to back, emptying the bladder fully, and avoiding irritants like perfumed soaps. If symptoms worsen or don’t improve, consulting a GP is crucial, as untreated UTIs can lead to serious complications like kidney infections or sepsis.\n",
    "\n",
    "Obesity is a condition characterized by excessive body fat that can lead to serious health issues, affecting around one in four adults and one in five children in the UK. It is typically measured using Body Mass Index (BMI), with a BMI of 30 or above classified as obese. A waist circumference over 94 cm in men and 80 cm in women can further indicate obesity-related health risks, including type 2 diabetes, coronary heart disease, certain cancers, and stroke. Obesity is primarily caused by consuming more calories than are burned through physical activity, often due to modern lifestyles involving high-calorie diets and sedentary habits. Treatment involves adopting a calorie-controlled diet, engaging in regular exercise, and seeking psychological support to change eating behaviors. In some cases, medication like orlistat or, rarely, weight loss surgery may be recommended. Preventing and addressing obesity is essential to improving overall health and quality of life.\n",
    "\n",
    "Myalgic encephalomyelitis (ME), also known as chronic fatigue syndrome (CFS), is a long-term neurological condition affecting the nervous and immune systems, causing severe fatigue and pain that doesn’t improve with sleep or rest. A hallmark symptom is post-exertional malaise (PEM), where even minimal activity leads to debilitating exhaustion, which might appear days later. Other symptoms include broken sleep, brain fog, dizziness, nausea, sensitivity to light and sound, and muscle pain. The condition affects individuals of all ages, genders, and backgrounds and can vary in severity, with periods of improvement and worsening. While the exact cause is unknown, potential triggers include infections, trauma, or major life stressors. Diagnosis requires ruling out other conditions, often through symptom tracking and routine tests. Though there is no cure, management strategies such as pacing, dietary advice, medication, counselling, and cognitive behavioural therapy (CBT) can help alleviate symptoms and improve quality of life. It is crucial to work with a GP to create a tailored approach for symptom management.\n",
    "\n",
    "A fever is typically identified when body temperature rises to 38°C or higher, often accompanied by sensations of warmth, chills, or shivering. It is the body’s natural response to infections such as flu, tonsillitis, or urinary tract infections (UTIs), helping to stimulate the immune system and hinder the survival of bacteria and viruses. Most fevers resolve within a few days and can be managed by resting, staying hydrated, wearing comfortable clothing, and taking fever-reducing medications like paracetamol. It’s important to avoid over-layering or attempting to cool down forcefully, as this may worsen symptoms. Seek medical advice if the fever persists, worsens, or is accompanied by severe symptoms such as confusion, muscle cramps, or unusual thirst. Fever, although uncomfortable, plays an essential role in fighting infections.\"\"\"\n",
    "\n",
    "documents =data.split('\\n\\n')\n",
    "print(f\"Number of documents: {len(documents)}\")"
   ]
  },
  {
   "cell_type": "code",
   "execution_count": 19,
   "id": "cf2be8e2",
   "metadata": {
    "execution": {
     "iopub.execute_input": "2025-05-17T13:26:46.558201Z",
     "iopub.status.busy": "2025-05-17T13:26:46.557894Z",
     "iopub.status.idle": "2025-05-17T13:27:25.021499Z",
     "shell.execute_reply": "2025-05-17T13:27:25.020216Z"
    },
    "papermill": {
     "duration": 38.478546,
     "end_time": "2025-05-17T13:27:25.023285",
     "exception": false,
     "start_time": "2025-05-17T13:26:46.544739",
     "status": "completed"
    },
    "tags": []
   },
   "outputs": [
    {
     "name": "stdout",
     "output_type": "stream",
     "text": [
      "Collecting chromadb\r\n",
      "  Downloading chromadb-1.0.9-cp39-abi3-manylinux_2_17_x86_64.manylinux2014_x86_64.whl.metadata (6.9 kB)\r\n",
      "Collecting build>=1.0.3 (from chromadb)\r\n",
      "  Downloading build-1.2.2.post1-py3-none-any.whl.metadata (6.5 kB)\r\n",
      "Requirement already satisfied: pydantic>=1.9 in /usr/local/lib/python3.11/dist-packages (from chromadb) (2.11.3)\r\n",
      "Collecting fastapi==0.115.9 (from chromadb)\r\n",
      "  Downloading fastapi-0.115.9-py3-none-any.whl.metadata (27 kB)\r\n",
      "Collecting uvicorn>=0.18.3 (from uvicorn[standard]>=0.18.3->chromadb)\r\n",
      "  Downloading uvicorn-0.34.2-py3-none-any.whl.metadata (6.5 kB)\r\n",
      "Requirement already satisfied: numpy>=1.22.5 in /usr/local/lib/python3.11/dist-packages (from chromadb) (1.26.4)\r\n",
      "Collecting posthog>=2.4.0 (from chromadb)\r\n",
      "  Downloading posthog-4.0.1-py2.py3-none-any.whl.metadata (3.0 kB)\r\n",
      "Requirement already satisfied: typing-extensions>=4.5.0 in /usr/local/lib/python3.11/dist-packages (from chromadb) (4.13.1)\r\n",
      "Collecting onnxruntime>=1.14.1 (from chromadb)\r\n",
      "  Downloading onnxruntime-1.22.0-cp311-cp311-manylinux_2_27_x86_64.manylinux_2_28_x86_64.whl.metadata (4.5 kB)\r\n",
      "Requirement already satisfied: opentelemetry-api>=1.2.0 in /usr/local/lib/python3.11/dist-packages (from chromadb) (1.16.0)\r\n",
      "Collecting opentelemetry-exporter-otlp-proto-grpc>=1.2.0 (from chromadb)\r\n",
      "  Downloading opentelemetry_exporter_otlp_proto_grpc-1.33.1-py3-none-any.whl.metadata (2.5 kB)\r\n",
      "Collecting opentelemetry-instrumentation-fastapi>=0.41b0 (from chromadb)\r\n",
      "  Downloading opentelemetry_instrumentation_fastapi-0.54b1-py3-none-any.whl.metadata (2.2 kB)\r\n",
      "Requirement already satisfied: opentelemetry-sdk>=1.2.0 in /usr/local/lib/python3.11/dist-packages (from chromadb) (1.16.0)\r\n",
      "Requirement already satisfied: tokenizers>=0.13.2 in /usr/local/lib/python3.11/dist-packages (from chromadb) (0.21.0)\r\n",
      "Collecting pypika>=0.48.9 (from chromadb)\r\n",
      "  Downloading PyPika-0.48.9.tar.gz (67 kB)\r\n",
      "\u001b[2K     \u001b[90m━━━━━━━━━━━━━━━━━━━━━━━━━━━━━━━━━━━━━━━━\u001b[0m \u001b[32m67.3/67.3 kB\u001b[0m \u001b[31m2.2 MB/s\u001b[0m eta \u001b[36m0:00:00\u001b[0m\r\n",
      "\u001b[?25h  Installing build dependencies ... \u001b[?25l\u001b[?25hdone\r\n",
      "  Getting requirements to build wheel ... \u001b[?25l\u001b[?25hdone\r\n",
      "  Preparing metadata (pyproject.toml) ... \u001b[?25l\u001b[?25hdone\r\n",
      "Requirement already satisfied: tqdm>=4.65.0 in /usr/local/lib/python3.11/dist-packages (from chromadb) (4.67.1)\r\n",
      "Requirement already satisfied: overrides>=7.3.1 in /usr/local/lib/python3.11/dist-packages (from chromadb) (7.7.0)\r\n",
      "Requirement already satisfied: importlib-resources in /usr/local/lib/python3.11/dist-packages (from chromadb) (6.5.2)\r\n",
      "Requirement already satisfied: grpcio>=1.58.0 in /usr/local/lib/python3.11/dist-packages (from chromadb) (1.70.0)\r\n",
      "Collecting bcrypt>=4.0.1 (from chromadb)\r\n",
      "  Downloading bcrypt-4.3.0-cp39-abi3-manylinux_2_34_x86_64.whl.metadata (10 kB)\r\n",
      "Requirement already satisfied: typer>=0.9.0 in /usr/local/lib/python3.11/dist-packages (from chromadb) (0.15.1)\r\n",
      "Collecting kubernetes>=28.1.0 (from chromadb)\r\n",
      "  Downloading kubernetes-32.0.1-py2.py3-none-any.whl.metadata (1.7 kB)\r\n",
      "Requirement already satisfied: tenacity>=8.2.3 in /usr/local/lib/python3.11/dist-packages (from chromadb) (9.0.0)\r\n",
      "Requirement already satisfied: pyyaml>=6.0.0 in /usr/local/lib/python3.11/dist-packages (from chromadb) (6.0.2)\r\n",
      "Collecting mmh3>=4.0.1 (from chromadb)\r\n",
      "  Downloading mmh3-5.1.0-cp311-cp311-manylinux_2_5_x86_64.manylinux1_x86_64.manylinux_2_17_x86_64.manylinux2014_x86_64.whl.metadata (16 kB)\r\n",
      "Requirement already satisfied: orjson>=3.9.12 in /usr/local/lib/python3.11/dist-packages (from chromadb) (3.10.15)\r\n",
      "Requirement already satisfied: httpx>=0.27.0 in /usr/local/lib/python3.11/dist-packages (from chromadb) (0.28.1)\r\n",
      "Requirement already satisfied: rich>=10.11.0 in /usr/local/lib/python3.11/dist-packages (from chromadb) (14.0.0)\r\n",
      "Requirement already satisfied: jsonschema>=4.19.0 in /usr/local/lib/python3.11/dist-packages (from chromadb) (4.23.0)\r\n",
      "Collecting starlette<0.46.0,>=0.40.0 (from fastapi==0.115.9->chromadb)\r\n",
      "  Downloading starlette-0.45.3-py3-none-any.whl.metadata (6.3 kB)\r\n",
      "Requirement already satisfied: packaging>=19.1 in /usr/local/lib/python3.11/dist-packages (from build>=1.0.3->chromadb) (24.2)\r\n",
      "Collecting pyproject_hooks (from build>=1.0.3->chromadb)\r\n",
      "  Downloading pyproject_hooks-1.2.0-py3-none-any.whl.metadata (1.3 kB)\r\n",
      "Requirement already satisfied: anyio in /usr/local/lib/python3.11/dist-packages (from httpx>=0.27.0->chromadb) (4.9.0)\r\n",
      "Requirement already satisfied: certifi in /usr/local/lib/python3.11/dist-packages (from httpx>=0.27.0->chromadb) (2025.1.31)\r\n",
      "Requirement already satisfied: httpcore==1.* in /usr/local/lib/python3.11/dist-packages (from httpx>=0.27.0->chromadb) (1.0.7)\r\n",
      "Requirement already satisfied: idna in /usr/local/lib/python3.11/dist-packages (from httpx>=0.27.0->chromadb) (3.10)\r\n",
      "Requirement already satisfied: h11<0.15,>=0.13 in /usr/local/lib/python3.11/dist-packages (from httpcore==1.*->httpx>=0.27.0->chromadb) (0.14.0)\r\n",
      "Requirement already satisfied: attrs>=22.2.0 in /usr/local/lib/python3.11/dist-packages (from jsonschema>=4.19.0->chromadb) (25.3.0)\r\n",
      "Requirement already satisfied: jsonschema-specifications>=2023.03.6 in /usr/local/lib/python3.11/dist-packages (from jsonschema>=4.19.0->chromadb) (2024.10.1)\r\n",
      "Requirement already satisfied: referencing>=0.28.4 in /usr/local/lib/python3.11/dist-packages (from jsonschema>=4.19.0->chromadb) (0.36.2)\r\n",
      "Requirement already satisfied: rpds-py>=0.7.1 in /usr/local/lib/python3.11/dist-packages (from jsonschema>=4.19.0->chromadb) (0.22.3)\r\n",
      "Requirement already satisfied: six>=1.9.0 in /usr/local/lib/python3.11/dist-packages (from kubernetes>=28.1.0->chromadb) (1.17.0)\r\n",
      "Requirement already satisfied: python-dateutil>=2.5.3 in /usr/local/lib/python3.11/dist-packages (from kubernetes>=28.1.0->chromadb) (2.9.0.post0)\r\n",
      "Requirement already satisfied: google-auth>=1.0.1 in /usr/local/lib/python3.11/dist-packages (from kubernetes>=28.1.0->chromadb) (2.27.0)\r\n",
      "Requirement already satisfied: websocket-client!=0.40.0,!=0.41.*,!=0.42.*,>=0.32.0 in /usr/local/lib/python3.11/dist-packages (from kubernetes>=28.1.0->chromadb) (1.8.0)\r\n",
      "Requirement already satisfied: requests in /usr/local/lib/python3.11/dist-packages (from kubernetes>=28.1.0->chromadb) (2.32.3)\r\n",
      "Requirement already satisfied: requests-oauthlib in /usr/local/lib/python3.11/dist-packages (from kubernetes>=28.1.0->chromadb) (2.0.0)\r\n",
      "Requirement already satisfied: oauthlib>=3.2.2 in /usr/local/lib/python3.11/dist-packages (from kubernetes>=28.1.0->chromadb) (3.2.2)\r\n",
      "Requirement already satisfied: urllib3>=1.24.2 in /usr/local/lib/python3.11/dist-packages (from kubernetes>=28.1.0->chromadb) (2.3.0)\r\n",
      "Collecting durationpy>=0.7 (from kubernetes>=28.1.0->chromadb)\r\n",
      "  Downloading durationpy-0.9-py3-none-any.whl.metadata (338 bytes)\r\n",
      "Requirement already satisfied: mkl_fft in /usr/local/lib/python3.11/dist-packages (from numpy>=1.22.5->chromadb) (1.3.8)\r\n",
      "Requirement already satisfied: mkl_random in /usr/local/lib/python3.11/dist-packages (from numpy>=1.22.5->chromadb) (1.2.4)\r\n",
      "Requirement already satisfied: mkl_umath in /usr/local/lib/python3.11/dist-packages (from numpy>=1.22.5->chromadb) (0.1.1)\r\n",
      "Requirement already satisfied: mkl in /usr/local/lib/python3.11/dist-packages (from numpy>=1.22.5->chromadb) (2025.1.0)\r\n",
      "Requirement already satisfied: tbb4py in /usr/local/lib/python3.11/dist-packages (from numpy>=1.22.5->chromadb) (2022.1.0)\r\n",
      "Requirement already satisfied: mkl-service in /usr/local/lib/python3.11/dist-packages (from numpy>=1.22.5->chromadb) (2.4.1)\r\n",
      "Collecting coloredlogs (from onnxruntime>=1.14.1->chromadb)\r\n",
      "  Downloading coloredlogs-15.0.1-py2.py3-none-any.whl.metadata (12 kB)\r\n",
      "Requirement already satisfied: flatbuffers in /usr/local/lib/python3.11/dist-packages (from onnxruntime>=1.14.1->chromadb) (25.2.10)\r\n",
      "Requirement already satisfied: protobuf in /usr/local/lib/python3.11/dist-packages (from onnxruntime>=1.14.1->chromadb) (3.20.3)\r\n",
      "Requirement already satisfied: sympy in /usr/local/lib/python3.11/dist-packages (from onnxruntime>=1.14.1->chromadb) (1.13.1)\r\n",
      "Requirement already satisfied: deprecated>=1.2.6 in /usr/local/lib/python3.11/dist-packages (from opentelemetry-api>=1.2.0->chromadb) (1.2.18)\r\n",
      "Requirement already satisfied: setuptools>=16.0 in /usr/local/lib/python3.11/dist-packages (from opentelemetry-api>=1.2.0->chromadb) (75.1.0)\r\n",
      "Requirement already satisfied: googleapis-common-protos~=1.52 in /usr/local/lib/python3.11/dist-packages (from opentelemetry-exporter-otlp-proto-grpc>=1.2.0->chromadb) (1.67.0)\r\n",
      "Collecting opentelemetry-exporter-otlp-proto-common==1.33.1 (from opentelemetry-exporter-otlp-proto-grpc>=1.2.0->chromadb)\r\n",
      "  Downloading opentelemetry_exporter_otlp_proto_common-1.33.1-py3-none-any.whl.metadata (1.9 kB)\r\n",
      "Collecting opentelemetry-proto==1.33.1 (from opentelemetry-exporter-otlp-proto-grpc>=1.2.0->chromadb)\r\n",
      "  Downloading opentelemetry_proto-1.33.1-py3-none-any.whl.metadata (2.4 kB)\r\n",
      "Collecting opentelemetry-sdk>=1.2.0 (from chromadb)\r\n",
      "  Downloading opentelemetry_sdk-1.33.1-py3-none-any.whl.metadata (1.6 kB)\r\n",
      "Collecting protobuf (from onnxruntime>=1.14.1->chromadb)\r\n",
      "  Downloading protobuf-5.29.4-cp38-abi3-manylinux2014_x86_64.whl.metadata (592 bytes)\r\n",
      "Collecting opentelemetry-instrumentation-asgi==0.54b1 (from opentelemetry-instrumentation-fastapi>=0.41b0->chromadb)\r\n",
      "  Downloading opentelemetry_instrumentation_asgi-0.54b1-py3-none-any.whl.metadata (2.1 kB)\r\n",
      "Collecting opentelemetry-instrumentation==0.54b1 (from opentelemetry-instrumentation-fastapi>=0.41b0->chromadb)\r\n",
      "  Downloading opentelemetry_instrumentation-0.54b1-py3-none-any.whl.metadata (6.8 kB)\r\n",
      "Collecting opentelemetry-semantic-conventions==0.54b1 (from opentelemetry-instrumentation-fastapi>=0.41b0->chromadb)\r\n",
      "  Downloading opentelemetry_semantic_conventions-0.54b1-py3-none-any.whl.metadata (2.5 kB)\r\n",
      "Collecting opentelemetry-util-http==0.54b1 (from opentelemetry-instrumentation-fastapi>=0.41b0->chromadb)\r\n",
      "  Downloading opentelemetry_util_http-0.54b1-py3-none-any.whl.metadata (2.6 kB)\r\n",
      "Requirement already satisfied: wrapt<2.0.0,>=1.0.0 in /usr/local/lib/python3.11/dist-packages (from opentelemetry-instrumentation==0.54b1->opentelemetry-instrumentation-fastapi>=0.41b0->chromadb) (1.17.2)\r\n",
      "Collecting asgiref~=3.0 (from opentelemetry-instrumentation-asgi==0.54b1->opentelemetry-instrumentation-fastapi>=0.41b0->chromadb)\r\n",
      "  Downloading asgiref-3.8.1-py3-none-any.whl.metadata (9.3 kB)\r\n",
      "Collecting opentelemetry-api>=1.2.0 (from chromadb)\r\n",
      "  Downloading opentelemetry_api-1.33.1-py3-none-any.whl.metadata (1.6 kB)\r\n",
      "Requirement already satisfied: importlib-metadata<8.7.0,>=6.0 in /usr/local/lib/python3.11/dist-packages (from opentelemetry-api>=1.2.0->chromadb) (8.6.1)\r\n",
      "Collecting backoff>=1.10.0 (from posthog>=2.4.0->chromadb)\r\n",
      "  Downloading backoff-2.2.1-py3-none-any.whl.metadata (14 kB)\r\n",
      "Requirement already satisfied: distro>=1.5.0 in /usr/local/lib/python3.11/dist-packages (from posthog>=2.4.0->chromadb) (1.9.0)\r\n",
      "Requirement already satisfied: annotated-types>=0.6.0 in /usr/local/lib/python3.11/dist-packages (from pydantic>=1.9->chromadb) (0.7.0)\r\n",
      "Requirement already satisfied: pydantic-core==2.33.1 in /usr/local/lib/python3.11/dist-packages (from pydantic>=1.9->chromadb) (2.33.1)\r\n",
      "Requirement already satisfied: typing-inspection>=0.4.0 in /usr/local/lib/python3.11/dist-packages (from pydantic>=1.9->chromadb) (0.4.0)\r\n",
      "Requirement already satisfied: markdown-it-py>=2.2.0 in /usr/local/lib/python3.11/dist-packages (from rich>=10.11.0->chromadb) (3.0.0)\r\n",
      "Requirement already satisfied: pygments<3.0.0,>=2.13.0 in /usr/local/lib/python3.11/dist-packages (from rich>=10.11.0->chromadb) (2.19.1)\r\n",
      "Requirement already satisfied: huggingface-hub<1.0,>=0.16.4 in /usr/local/lib/python3.11/dist-packages (from tokenizers>=0.13.2->chromadb) (0.30.2)\r\n",
      "Requirement already satisfied: click>=8.0.0 in /usr/local/lib/python3.11/dist-packages (from typer>=0.9.0->chromadb) (8.1.8)\r\n",
      "Requirement already satisfied: shellingham>=1.3.0 in /usr/local/lib/python3.11/dist-packages (from typer>=0.9.0->chromadb) (1.5.4)\r\n",
      "Collecting httptools>=0.6.3 (from uvicorn[standard]>=0.18.3->chromadb)\r\n",
      "  Downloading httptools-0.6.4-cp311-cp311-manylinux_2_5_x86_64.manylinux1_x86_64.manylinux_2_17_x86_64.manylinux2014_x86_64.whl.metadata (3.6 kB)\r\n",
      "Collecting python-dotenv>=0.13 (from uvicorn[standard]>=0.18.3->chromadb)\r\n",
      "  Downloading python_dotenv-1.1.0-py3-none-any.whl.metadata (24 kB)\r\n",
      "Collecting uvloop!=0.15.0,!=0.15.1,>=0.14.0 (from uvicorn[standard]>=0.18.3->chromadb)\r\n",
      "  Downloading uvloop-0.21.0-cp311-cp311-manylinux_2_17_x86_64.manylinux2014_x86_64.whl.metadata (4.9 kB)\r\n",
      "Collecting watchfiles>=0.13 (from uvicorn[standard]>=0.18.3->chromadb)\r\n",
      "  Downloading watchfiles-1.0.5-cp311-cp311-manylinux_2_17_x86_64.manylinux2014_x86_64.whl.metadata (4.9 kB)\r\n",
      "Requirement already satisfied: websockets>=10.4 in /usr/local/lib/python3.11/dist-packages (from uvicorn[standard]>=0.18.3->chromadb) (14.2)\r\n",
      "Requirement already satisfied: cachetools<6.0,>=2.0.0 in /usr/local/lib/python3.11/dist-packages (from google-auth>=1.0.1->kubernetes>=28.1.0->chromadb) (5.5.2)\r\n",
      "Requirement already satisfied: pyasn1-modules>=0.2.1 in /usr/local/lib/python3.11/dist-packages (from google-auth>=1.0.1->kubernetes>=28.1.0->chromadb) (0.4.1)\r\n",
      "Requirement already satisfied: rsa<5,>=3.1.4 in /usr/local/lib/python3.11/dist-packages (from google-auth>=1.0.1->kubernetes>=28.1.0->chromadb) (4.9)\r\n",
      "Requirement already satisfied: filelock in /usr/local/lib/python3.11/dist-packages (from huggingface-hub<1.0,>=0.16.4->tokenizers>=0.13.2->chromadb) (3.18.0)\r\n",
      "Requirement already satisfied: fsspec>=2023.5.0 in /usr/local/lib/python3.11/dist-packages (from huggingface-hub<1.0,>=0.16.4->tokenizers>=0.13.2->chromadb) (2025.3.2)\r\n",
      "Requirement already satisfied: zipp>=3.20 in /usr/local/lib/python3.11/dist-packages (from importlib-metadata<8.7.0,>=6.0->opentelemetry-api>=1.2.0->chromadb) (3.21.0)\r\n",
      "Requirement already satisfied: mdurl~=0.1 in /usr/local/lib/python3.11/dist-packages (from markdown-it-py>=2.2.0->rich>=10.11.0->chromadb) (0.1.2)\r\n",
      "Requirement already satisfied: charset-normalizer<4,>=2 in /usr/local/lib/python3.11/dist-packages (from requests->kubernetes>=28.1.0->chromadb) (3.4.1)\r\n",
      "Requirement already satisfied: sniffio>=1.1 in /usr/local/lib/python3.11/dist-packages (from anyio->httpx>=0.27.0->chromadb) (1.3.1)\r\n",
      "Collecting humanfriendly>=9.1 (from coloredlogs->onnxruntime>=1.14.1->chromadb)\r\n",
      "  Downloading humanfriendly-10.0-py2.py3-none-any.whl.metadata (9.2 kB)\r\n",
      "Requirement already satisfied: intel-openmp<2026,>=2024 in /usr/local/lib/python3.11/dist-packages (from mkl->numpy>=1.22.5->chromadb) (2024.2.0)\r\n",
      "Requirement already satisfied: tbb==2022.* in /usr/local/lib/python3.11/dist-packages (from mkl->numpy>=1.22.5->chromadb) (2022.1.0)\r\n",
      "Requirement already satisfied: tcmlib==1.* in /usr/local/lib/python3.11/dist-packages (from tbb==2022.*->mkl->numpy>=1.22.5->chromadb) (1.2.0)\r\n",
      "Requirement already satisfied: intel-cmplr-lib-rt in /usr/local/lib/python3.11/dist-packages (from mkl_umath->numpy>=1.22.5->chromadb) (2024.2.0)\r\n",
      "Requirement already satisfied: mpmath<1.4,>=1.1.0 in /usr/local/lib/python3.11/dist-packages (from sympy->onnxruntime>=1.14.1->chromadb) (1.3.0)\r\n",
      "Requirement already satisfied: intel-cmplr-lib-ur==2024.2.0 in /usr/local/lib/python3.11/dist-packages (from intel-openmp<2026,>=2024->mkl->numpy>=1.22.5->chromadb) (2024.2.0)\r\n",
      "Requirement already satisfied: pyasn1<0.7.0,>=0.4.6 in /usr/local/lib/python3.11/dist-packages (from pyasn1-modules>=0.2.1->google-auth>=1.0.1->kubernetes>=28.1.0->chromadb) (0.6.1)\r\n",
      "Downloading chromadb-1.0.9-cp39-abi3-manylinux_2_17_x86_64.manylinux2014_x86_64.whl (18.9 MB)\r\n",
      "\u001b[2K   \u001b[90m━━━━━━━━━━━━━━━━━━━━━━━━━━━━━━━━━━━━━━━━\u001b[0m \u001b[32m18.9/18.9 MB\u001b[0m \u001b[31m80.6 MB/s\u001b[0m eta \u001b[36m0:00:00\u001b[0m\r\n",
      "\u001b[?25hDownloading fastapi-0.115.9-py3-none-any.whl (94 kB)\r\n",
      "\u001b[2K   \u001b[90m━━━━━━━━━━━━━━━━━━━━━━━━━━━━━━━━━━━━━━━━\u001b[0m \u001b[32m94.9/94.9 kB\u001b[0m \u001b[31m5.8 MB/s\u001b[0m eta \u001b[36m0:00:00\u001b[0m\r\n",
      "\u001b[?25hDownloading bcrypt-4.3.0-cp39-abi3-manylinux_2_34_x86_64.whl (284 kB)\r\n",
      "\u001b[2K   \u001b[90m━━━━━━━━━━━━━━━━━━━━━━━━━━━━━━━━━━━━━━━━\u001b[0m \u001b[32m284.2/284.2 kB\u001b[0m \u001b[31m16.7 MB/s\u001b[0m eta \u001b[36m0:00:00\u001b[0m\r\n",
      "\u001b[?25hDownloading build-1.2.2.post1-py3-none-any.whl (22 kB)\r\n",
      "Downloading kubernetes-32.0.1-py2.py3-none-any.whl (2.0 MB)\r\n",
      "\u001b[2K   \u001b[90m━━━━━━━━━━━━━━━━━━━━━━━━━━━━━━━━━━━━━━━━\u001b[0m \u001b[32m2.0/2.0 MB\u001b[0m \u001b[31m63.0 MB/s\u001b[0m eta \u001b[36m0:00:00\u001b[0m\r\n",
      "\u001b[?25hDownloading mmh3-5.1.0-cp311-cp311-manylinux_2_5_x86_64.manylinux1_x86_64.manylinux_2_17_x86_64.manylinux2014_x86_64.whl (101 kB)\r\n",
      "\u001b[2K   \u001b[90m━━━━━━━━━━━━━━━━━━━━━━━━━━━━━━━━━━━━━━━━\u001b[0m \u001b[32m101.6/101.6 kB\u001b[0m \u001b[31m4.8 MB/s\u001b[0m eta \u001b[36m0:00:00\u001b[0m\r\n",
      "\u001b[?25hDownloading onnxruntime-1.22.0-cp311-cp311-manylinux_2_27_x86_64.manylinux_2_28_x86_64.whl (16.4 MB)\r\n",
      "\u001b[2K   \u001b[90m━━━━━━━━━━━━━━━━━━━━━━━━━━━━━━━━━━━━━━━━\u001b[0m \u001b[32m16.4/16.4 MB\u001b[0m \u001b[31m84.6 MB/s\u001b[0m eta \u001b[36m0:00:00\u001b[0m\r\n",
      "\u001b[?25hDownloading opentelemetry_exporter_otlp_proto_grpc-1.33.1-py3-none-any.whl (18 kB)\r\n",
      "Downloading opentelemetry_exporter_otlp_proto_common-1.33.1-py3-none-any.whl (18 kB)\r\n",
      "Downloading opentelemetry_proto-1.33.1-py3-none-any.whl (55 kB)\r\n",
      "\u001b[2K   \u001b[90m━━━━━━━━━━━━━━━━━━━━━━━━━━━━━━━━━━━━━━━━\u001b[0m \u001b[32m55.9/55.9 kB\u001b[0m \u001b[31m3.4 MB/s\u001b[0m eta \u001b[36m0:00:00\u001b[0m\r\n",
      "\u001b[?25hDownloading opentelemetry_instrumentation_fastapi-0.54b1-py3-none-any.whl (12 kB)\r\n",
      "Downloading opentelemetry_instrumentation-0.54b1-py3-none-any.whl (31 kB)\r\n",
      "Downloading opentelemetry_instrumentation_asgi-0.54b1-py3-none-any.whl (16 kB)\r\n",
      "Downloading opentelemetry_semantic_conventions-0.54b1-py3-none-any.whl (194 kB)\r\n",
      "\u001b[2K   \u001b[90m━━━━━━━━━━━━━━━━━━━━━━━━━━━━━━━━━━━━━━━━\u001b[0m \u001b[32m194.9/194.9 kB\u001b[0m \u001b[31m10.3 MB/s\u001b[0m eta \u001b[36m0:00:00\u001b[0m\r\n",
      "\u001b[?25hDownloading opentelemetry_api-1.33.1-py3-none-any.whl (65 kB)\r\n",
      "\u001b[2K   \u001b[90m━━━━━━━━━━━━━━━━━━━━━━━━━━━━━━━━━━━━━━━━\u001b[0m \u001b[32m65.8/65.8 kB\u001b[0m \u001b[31m3.0 MB/s\u001b[0m eta \u001b[36m0:00:00\u001b[0m\r\n",
      "\u001b[?25hDownloading opentelemetry_util_http-0.54b1-py3-none-any.whl (7.3 kB)\r\n",
      "Downloading opentelemetry_sdk-1.33.1-py3-none-any.whl (118 kB)\r\n",
      "\u001b[2K   \u001b[90m━━━━━━━━━━━━━━━━━━━━━━━━━━━━━━━━━━━━━━━━\u001b[0m \u001b[32m119.0/119.0 kB\u001b[0m \u001b[31m5.7 MB/s\u001b[0m eta \u001b[36m0:00:00\u001b[0m\r\n",
      "\u001b[?25hDownloading posthog-4.0.1-py2.py3-none-any.whl (92 kB)\r\n",
      "\u001b[2K   \u001b[90m━━━━━━━━━━━━━━━━━━━━━━━━━━━━━━━━━━━━━━━━\u001b[0m \u001b[32m92.0/92.0 kB\u001b[0m \u001b[31m4.3 MB/s\u001b[0m eta \u001b[36m0:00:00\u001b[0m\r\n",
      "\u001b[?25hDownloading uvicorn-0.34.2-py3-none-any.whl (62 kB)\r\n",
      "\u001b[2K   \u001b[90m━━━━━━━━━━━━━━━━━━━━━━━━━━━━━━━━━━━━━━━━\u001b[0m \u001b[32m62.5/62.5 kB\u001b[0m \u001b[31m3.1 MB/s\u001b[0m eta \u001b[36m0:00:00\u001b[0m\r\n",
      "\u001b[?25hDownloading backoff-2.2.1-py3-none-any.whl (15 kB)\r\n",
      "Downloading durationpy-0.9-py3-none-any.whl (3.5 kB)\r\n",
      "Downloading httptools-0.6.4-cp311-cp311-manylinux_2_5_x86_64.manylinux1_x86_64.manylinux_2_17_x86_64.manylinux2014_x86_64.whl (459 kB)\r\n",
      "\u001b[2K   \u001b[90m━━━━━━━━━━━━━━━━━━━━━━━━━━━━━━━━━━━━━━━━\u001b[0m \u001b[32m459.8/459.8 kB\u001b[0m \u001b[31m20.4 MB/s\u001b[0m eta \u001b[36m0:00:00\u001b[0m\r\n",
      "\u001b[?25hDownloading protobuf-5.29.4-cp38-abi3-manylinux2014_x86_64.whl (319 kB)\r\n",
      "\u001b[2K   \u001b[90m━━━━━━━━━━━━━━━━━━━━━━━━━━━━━━━━━━━━━━━━\u001b[0m \u001b[32m319.7/319.7 kB\u001b[0m \u001b[31m14.7 MB/s\u001b[0m eta \u001b[36m0:00:00\u001b[0m\r\n",
      "\u001b[?25hDownloading python_dotenv-1.1.0-py3-none-any.whl (20 kB)\r\n",
      "Downloading starlette-0.45.3-py3-none-any.whl (71 kB)\r\n",
      "\u001b[2K   \u001b[90m━━━━━━━━━━━━━━━━━━━━━━━━━━━━━━━━━━━━━━━━\u001b[0m \u001b[32m71.5/71.5 kB\u001b[0m \u001b[31m3.5 MB/s\u001b[0m eta \u001b[36m0:00:00\u001b[0m\r\n",
      "\u001b[?25hDownloading uvloop-0.21.0-cp311-cp311-manylinux_2_17_x86_64.manylinux2014_x86_64.whl (4.0 MB)\r\n",
      "\u001b[2K   \u001b[90m━━━━━━━━━━━━━━━━━━━━━━━━━━━━━━━━━━━━━━━━\u001b[0m \u001b[32m4.0/4.0 MB\u001b[0m \u001b[31m71.2 MB/s\u001b[0m eta \u001b[36m0:00:00\u001b[0m\r\n",
      "\u001b[?25hDownloading watchfiles-1.0.5-cp311-cp311-manylinux_2_17_x86_64.manylinux2014_x86_64.whl (454 kB)\r\n",
      "\u001b[2K   \u001b[90m━━━━━━━━━━━━━━━━━━━━━━━━━━━━━━━━━━━━━━━━\u001b[0m \u001b[32m454.8/454.8 kB\u001b[0m \u001b[31m21.8 MB/s\u001b[0m eta \u001b[36m0:00:00\u001b[0m\r\n",
      "\u001b[?25hDownloading coloredlogs-15.0.1-py2.py3-none-any.whl (46 kB)\r\n",
      "\u001b[2K   \u001b[90m━━━━━━━━━━━━━━━━━━━━━━━━━━━━━━━━━━━━━━━━\u001b[0m \u001b[32m46.0/46.0 kB\u001b[0m \u001b[31m2.1 MB/s\u001b[0m eta \u001b[36m0:00:00\u001b[0m\r\n",
      "\u001b[?25hDownloading pyproject_hooks-1.2.0-py3-none-any.whl (10 kB)\r\n",
      "Downloading asgiref-3.8.1-py3-none-any.whl (23 kB)\r\n",
      "Downloading humanfriendly-10.0-py2.py3-none-any.whl (86 kB)\r\n",
      "\u001b[2K   \u001b[90m━━━━━━━━━━━━━━━━━━━━━━━━━━━━━━━━━━━━━━━━\u001b[0m \u001b[32m86.8/86.8 kB\u001b[0m \u001b[31m4.0 MB/s\u001b[0m eta \u001b[36m0:00:00\u001b[0m\r\n",
      "\u001b[?25hBuilding wheels for collected packages: pypika\r\n",
      "  Building wheel for pypika (pyproject.toml) ... \u001b[?25l\u001b[?25hdone\r\n",
      "  Created wheel for pypika: filename=pypika-0.48.9-py2.py3-none-any.whl size=53801 sha256=dd1ef580d7daee0e7fb848c0397b8ad41a18d5a99dc0f6217ac81f55b20986a3\r\n",
      "  Stored in directory: /root/.cache/pip/wheels/a3/01/bd/4c40ceb9d5354160cb186dcc153360f4ab7eb23e2b24daf96d\r\n",
      "Successfully built pypika\r\n",
      "Installing collected packages: pypika, durationpy, uvloop, uvicorn, python-dotenv, pyproject_hooks, protobuf, opentelemetry-util-http, mmh3, humanfriendly, httptools, bcrypt, backoff, asgiref, watchfiles, starlette, posthog, opentelemetry-proto, opentelemetry-api, coloredlogs, build, opentelemetry-semantic-conventions, opentelemetry-exporter-otlp-proto-common, kubernetes, fastapi, opentelemetry-sdk, opentelemetry-instrumentation, opentelemetry-instrumentation-asgi, opentelemetry-exporter-otlp-proto-grpc, opentelemetry-instrumentation-fastapi, onnxruntime, chromadb\r\n",
      "  Attempting uninstall: protobuf\r\n",
      "    Found existing installation: protobuf 3.20.3\r\n",
      "    Uninstalling protobuf-3.20.3:\r\n",
      "      Successfully uninstalled protobuf-3.20.3\r\n",
      "  Attempting uninstall: opentelemetry-api\r\n",
      "    Found existing installation: opentelemetry-api 1.16.0\r\n",
      "    Uninstalling opentelemetry-api-1.16.0:\r\n",
      "      Successfully uninstalled opentelemetry-api-1.16.0\r\n",
      "  Attempting uninstall: opentelemetry-semantic-conventions\r\n",
      "    Found existing installation: opentelemetry-semantic-conventions 0.37b0\r\n",
      "    Uninstalling opentelemetry-semantic-conventions-0.37b0:\r\n",
      "      Successfully uninstalled opentelemetry-semantic-conventions-0.37b0\r\n",
      "  Attempting uninstall: opentelemetry-sdk\r\n",
      "    Found existing installation: opentelemetry-sdk 1.16.0\r\n",
      "    Uninstalling opentelemetry-sdk-1.16.0:\r\n",
      "      Successfully uninstalled opentelemetry-sdk-1.16.0\r\n",
      "\u001b[31mERROR: pip's dependency resolver does not currently take into account all the packages that are installed. This behaviour is the source of the following dependency conflicts.\r\n",
      "google-cloud-translate 3.12.1 requires protobuf!=3.20.0,!=3.20.1,!=4.21.0,!=4.21.1,!=4.21.2,!=4.21.3,!=4.21.4,!=4.21.5,<5.0.0dev,>=3.19.5, but you have protobuf 5.29.4 which is incompatible.\r\n",
      "google-api-core 1.34.1 requires protobuf!=3.20.0,!=3.20.1,!=4.21.0,!=4.21.1,!=4.21.2,!=4.21.3,!=4.21.4,!=4.21.5,<4.0.0dev,>=3.19.5, but you have protobuf 5.29.4 which is incompatible.\r\n",
      "google-spark-connect 0.5.2 requires google-api-core>=2.19.1, but you have google-api-core 1.34.1 which is incompatible.\r\n",
      "pandas-gbq 0.26.1 requires google-api-core<3.0.0dev,>=2.10.2, but you have google-api-core 1.34.1 which is incompatible.\r\n",
      "bigframes 1.36.0 requires rich<14,>=12.4.4, but you have rich 14.0.0 which is incompatible.\r\n",
      "google-cloud-bigtable 2.28.1 requires google-api-core[grpc]<3.0.0dev,>=2.16.0, but you have google-api-core 1.34.1 which is incompatible.\u001b[0m\u001b[31m\r\n",
      "\u001b[0mSuccessfully installed asgiref-3.8.1 backoff-2.2.1 bcrypt-4.3.0 build-1.2.2.post1 chromadb-1.0.9 coloredlogs-15.0.1 durationpy-0.9 fastapi-0.115.9 httptools-0.6.4 humanfriendly-10.0 kubernetes-32.0.1 mmh3-5.1.0 onnxruntime-1.22.0 opentelemetry-api-1.33.1 opentelemetry-exporter-otlp-proto-common-1.33.1 opentelemetry-exporter-otlp-proto-grpc-1.33.1 opentelemetry-instrumentation-0.54b1 opentelemetry-instrumentation-asgi-0.54b1 opentelemetry-instrumentation-fastapi-0.54b1 opentelemetry-proto-1.33.1 opentelemetry-sdk-1.33.1 opentelemetry-semantic-conventions-0.54b1 opentelemetry-util-http-0.54b1 posthog-4.0.1 protobuf-5.29.4 pypika-0.48.9 pyproject_hooks-1.2.0 python-dotenv-1.1.0 starlette-0.45.3 uvicorn-0.34.2 uvloop-0.21.0 watchfiles-1.0.5\r\n",
      "Note: you may need to restart the kernel to use updated packages.\n"
     ]
    }
   ],
   "source": [
    "pip install chromadb"
   ]
  },
  {
   "cell_type": "code",
   "execution_count": 20,
   "id": "69157201",
   "metadata": {
    "execution": {
     "iopub.execute_input": "2025-05-17T13:27:25.064321Z",
     "iopub.status.busy": "2025-05-17T13:27:25.063846Z",
     "iopub.status.idle": "2025-05-17T13:27:25.761979Z",
     "shell.execute_reply": "2025-05-17T13:27:25.761114Z"
    },
    "papermill": {
     "duration": 0.723251,
     "end_time": "2025-05-17T13:27:25.763686",
     "exception": false,
     "start_time": "2025-05-17T13:27:25.040435",
     "status": "completed"
    },
    "tags": []
   },
   "outputs": [],
   "source": [
    "# Creating a Gemini Embedding Function\n",
    "from chromadb import Documents, EmbeddingFunction, Embeddings\n",
    "from google.api_core import retry\n",
    "from google.genai import types\n",
    "\n",
    "\n",
    "is_retriable = lambda e: (isinstance(e, genai.errors.APIError) and e.code in {429, 503})\n",
    "\n",
    "\n",
    "class GeminiEmbeddingFunction(EmbeddingFunction):\n",
    "    document_mode = True\n",
    "\n",
    "    @retry.Retry(predicate=is_retriable)\n",
    "    def __call__(self, input: Documents) -> Embeddings:\n",
    "        if self.document_mode:\n",
    "            embedding_task = \"retrieval_document\"\n",
    "        else:\n",
    "            embedding_task = \"retrieval_query\"\n",
    "\n",
    "        response = client.models.embed_content(\n",
    "            model=\"models/text-embedding-004\",\n",
    "            contents=input,\n",
    "            config=types.EmbedContentConfig(\n",
    "                task_type=embedding_task,\n",
    "            ),\n",
    "        )\n",
    "        return [e.values for e in response.embeddings]\n"
   ]
  },
  {
   "cell_type": "markdown",
   "id": "7df7cbf8",
   "metadata": {
    "papermill": {
     "duration": 0.016728,
     "end_time": "2025-05-17T13:27:25.798039",
     "exception": false,
     "start_time": "2025-05-17T13:27:25.781311",
     "status": "completed"
    },
    "tags": []
   },
   "source": [
    "The code initializes a Chroma database named `googlecardb`, sets up an embedding function, and creates a collection. It then adds the documents to the database, assigning unique IDs to each document."
   ]
  },
  {
   "cell_type": "code",
   "execution_count": 21,
   "id": "a80cd862",
   "metadata": {
    "execution": {
     "iopub.execute_input": "2025-05-17T13:27:25.833006Z",
     "iopub.status.busy": "2025-05-17T13:27:25.832683Z",
     "iopub.status.idle": "2025-05-17T13:27:26.579635Z",
     "shell.execute_reply": "2025-05-17T13:27:26.578721Z"
    },
    "papermill": {
     "duration": 0.7663,
     "end_time": "2025-05-17T13:27:26.581172",
     "exception": false,
     "start_time": "2025-05-17T13:27:25.814872",
     "status": "completed"
    },
    "tags": []
   },
   "outputs": [
    {
     "name": "stderr",
     "output_type": "stream",
     "text": [
      "/tmp/ipykernel_13/4292023148.py:6: DeprecationWarning: The class GeminiEmbeddingFunction does not implement __init__. This will be required in a future version.\n",
      "  embed_fn = GeminiEmbeddingFunction()\n"
     ]
    }
   ],
   "source": [
    "# Initializing an empty database\n",
    "import chromadb\n",
    "\n",
    "DB_NAME = \"googlecardb\"\n",
    "\n",
    "embed_fn = GeminiEmbeddingFunction()\n",
    "embed_fn.document_mode = True\n",
    "\n",
    "chroma_client = chromadb.Client()\n",
    "db = chroma_client.get_or_create_collection(name=DB_NAME, embedding_function=embed_fn)\n",
    "\n",
    "db.add(documents=documents, ids=[str(i) for i in range(len(documents))])"
   ]
  },
  {
   "cell_type": "markdown",
   "id": "c09f220a",
   "metadata": {
    "papermill": {
     "duration": 0.016759,
     "end_time": "2025-05-17T13:27:26.615895",
     "exception": false,
     "start_time": "2025-05-17T13:27:26.599136",
     "status": "completed"
    },
    "tags": []
   },
   "source": [
    "Confirm whether the data has been successfully inserted into the database."
   ]
  },
  {
   "cell_type": "code",
   "execution_count": 22,
   "id": "a0546e29",
   "metadata": {
    "execution": {
     "iopub.execute_input": "2025-05-17T13:27:26.651062Z",
     "iopub.status.busy": "2025-05-17T13:27:26.650773Z",
     "iopub.status.idle": "2025-05-17T13:27:26.660134Z",
     "shell.execute_reply": "2025-05-17T13:27:26.659340Z"
    },
    "papermill": {
     "duration": 0.028541,
     "end_time": "2025-05-17T13:27:26.661425",
     "exception": false,
     "start_time": "2025-05-17T13:27:26.632884",
     "status": "completed"
    },
    "tags": []
   },
   "outputs": [
    {
     "data": {
      "text/plain": [
       "11"
      ]
     },
     "execution_count": 22,
     "metadata": {},
     "output_type": "execute_result"
    }
   ],
   "source": [
    "# Confirming whether the data has been successfully inserted into the database\n",
    "db.count()"
   ]
  },
  {
   "cell_type": "code",
   "execution_count": 23,
   "id": "58f9bdf7",
   "metadata": {
    "execution": {
     "iopub.execute_input": "2025-05-17T13:27:26.697408Z",
     "iopub.status.busy": "2025-05-17T13:27:26.696780Z",
     "iopub.status.idle": "2025-05-17T13:27:27.061149Z",
     "shell.execute_reply": "2025-05-17T13:27:27.060260Z"
    },
    "papermill": {
     "duration": 0.383963,
     "end_time": "2025-05-17T13:27:27.062726",
     "exception": false,
     "start_time": "2025-05-17T13:27:26.678763",
     "status": "completed"
    },
    "tags": []
   },
   "outputs": [
    {
     "data": {
      "text/markdown": [
       "A fever is typically identified when body temperature rises to 38°C or higher, often accompanied by sensations of warmth, chills, or shivering. It is the body’s natural response to infections such as flu, tonsillitis, or urinary tract infections (UTIs), helping to stimulate the immune system and hinder the survival of bacteria and viruses. Most fevers resolve within a few days and can be managed by resting, staying hydrated, wearing comfortable clothing, and taking fever-reducing medications like paracetamol. It’s important to avoid over-layering or attempting to cool down forcefully, as this may worsen symptoms. Seek medical advice if the fever persists, worsens, or is accompanied by severe symptoms such as confusion, muscle cramps, or unusual thirst. Fever, although uncomfortable, plays an essential role in fighting infections."
      ],
      "text/plain": [
       "<IPython.core.display.Markdown object>"
      ]
     },
     "execution_count": 23,
     "metadata": {},
     "output_type": "execute_result"
    }
   ],
   "source": [
    "# Query1 to the database\n",
    "embed_fn.document_mode = False\n",
    "\n",
    "# Search the Chroma DB using the specified query.\n",
    "query = \"I am experiencing high temperature and tiredness.How should i treat it?\"\n",
    "\n",
    "result = db.query(query_texts=[query], n_results=1)\n",
    "[all_passages] = result[\"documents\"]\n",
    "\n",
    "Markdown(all_passages[0])"
   ]
  },
  {
   "cell_type": "code",
   "execution_count": 24,
   "id": "4cd3f1ce",
   "metadata": {
    "execution": {
     "iopub.execute_input": "2025-05-17T13:27:27.098880Z",
     "iopub.status.busy": "2025-05-17T13:27:27.098588Z",
     "iopub.status.idle": "2025-05-17T13:27:27.272943Z",
     "shell.execute_reply": "2025-05-17T13:27:27.271818Z"
    },
    "papermill": {
     "duration": 0.194565,
     "end_time": "2025-05-17T13:27:27.274773",
     "exception": false,
     "start_time": "2025-05-17T13:27:27.080208",
     "status": "completed"
    },
    "tags": []
   },
   "outputs": [
    {
     "data": {
      "text/markdown": [
       "Allergies occur when the body's immune system reacts to certain substances, known as allergens, as if they are harmful. Allergies are common, affecting over 1 in 4 people in the UK, and they can develop at any age. Common allergens include pollen, dust mites, animal dander, certain foods like nuts and shellfish, insect stings, medications, latex, mould, and household chemicals. Symptoms of an allergic reaction usually appear quickly and can include sneezing, a runny or blocked nose, red and itchy eyes, wheezing, coughing, skin rashes, and worsened asthma or eczema. Severe reactions, such as anaphylaxis, require urgent medical treatment. Allergies can often be managed by avoiding allergens and using treatments like antihistamines, decongestants, creams, and steroids. For severe cases, immunotherapy may be recommended to gradually reduce sensitivity to allergens. Preventing allergic reactions involves maintaining good hygiene, reading food labels, and minimizing exposure to known allergens."
      ],
      "text/plain": [
       "<IPython.core.display.Markdown object>"
      ]
     },
     "execution_count": 24,
     "metadata": {},
     "output_type": "execute_result"
    }
   ],
   "source": [
    "# Query2 to the database\n",
    "embed_fn.document_mode = False\n",
    "\n",
    "# Search the Chroma DB using the specified query.\n",
    "query = \"What should I do if i am experiencing uneasiness after eating peanuts?\"\n",
    "\n",
    "result = db.query(query_texts=[query], n_results=1)\n",
    "[all_passages] = result[\"documents\"]\n",
    "\n",
    "Markdown(all_passages[0])"
   ]
  },
  {
   "cell_type": "markdown",
   "id": "94b0b29f",
   "metadata": {
    "papermill": {
     "duration": 0.017699,
     "end_time": "2025-05-17T13:27:27.310660",
     "exception": false,
     "start_time": "2025-05-17T13:27:27.292961",
     "status": "completed"
    },
    "tags": []
   },
   "source": [
    "### Approach for Query Processing and Answer Generation:\n",
    "\n",
    "The technique starts by preprocesses the query of the user into a clear, single-line input. Then, a framed prompt is constructed, directing the AI model to give a crisp, informative, and well-padded response. The prompt further contains directives on highlighting the illness, offering solutions, and suppressing irrelevant content. Pertinent passages of medical material retrieved from the vector database are added to the prompt to bolster contextual understanding.\n",
    "\n",
    "Finally, the prompt is submitted to the Gemini model (`gemini-2.0-flash`) which returns a context-specific response as per both the query of the user and reference documents. Then, the output is presented in clean Markdown-readable form so the answer is easily comprehensible."
   ]
  },
  {
   "cell_type": "code",
   "execution_count": 25,
   "id": "9f833e6e",
   "metadata": {
    "execution": {
     "iopub.execute_input": "2025-05-17T13:27:27.348147Z",
     "iopub.status.busy": "2025-05-17T13:27:27.347126Z",
     "iopub.status.idle": "2025-05-17T13:27:27.353884Z",
     "shell.execute_reply": "2025-05-17T13:27:27.352592Z"
    },
    "papermill": {
     "duration": 0.02707,
     "end_time": "2025-05-17T13:27:27.355389",
     "exception": false,
     "start_time": "2025-05-17T13:27:27.328319",
     "status": "completed"
    },
    "tags": []
   },
   "outputs": [
    {
     "name": "stdout",
     "output_type": "stream",
     "text": [
      "You are a helpful and informative bot that answers questions using text from the reference passage included below. \n",
      "Make sure to give the answer in a simple and understandable format.The response should be in a paragraph but in a proper format. \n",
      "The illness should be highlighted with proper remedies.\n",
      "If the passage is irrelevant to the answer, you may ignore it.\n",
      "What should I do if i am experiencing uneasiness after eating peanuts?\n",
      "PASSAGE: Allergies occur when the body's immune system reacts to certain substances, known as allergens, as if they are harmful. Allergies are common, affecting over 1 in 4 people in the UK, and they can develop at any age. Common allergens include pollen, dust mites, animal dander, certain foods like nuts and shellfish, insect stings, medications, latex, mould, and household chemicals. Symptoms of an allergic reaction usually appear quickly and can include sneezing, a runny or blocked nose, red and itchy eyes, wheezing, coughing, skin rashes, and worsened asthma or eczema. Severe reactions, such as anaphylaxis, require urgent medical treatment. Allergies can often be managed by avoiding allergens and using treatments like antihistamines, decongestants, creams, and steroids. For severe cases, immunotherapy may be recommended to gradually reduce sensitivity to allergens. Preventing allergic reactions involves maintaining good hygiene, reading food labels, and minimizing exposure to known allergens.\n",
      "\n"
     ]
    }
   ],
   "source": [
    "query_oneline = query.replace(\"\\n\", \" \")\n",
    "\n",
    "# This prompt is where you can specify any guidance on tone, or what topics the model should stick to, or avoid.\n",
    "prompt = f\"\"\"You are a helpful and informative bot that answers questions using text from the reference passage included below. \n",
    "Make sure to give the answer in a simple and understandable format.The response should be in a paragraph but in a proper format. \n",
    "The illness should be highlighted with proper remedies.\n",
    "If the passage is irrelevant to the answer, you may ignore it.\n",
    "{query_oneline}\n",
    "\"\"\"\n",
    "\n",
    "# Add the retrieved documents to the prompt.\n",
    "for passage in all_passages:\n",
    "    passage_oneline = passage.replace(\"\\n\", \" \")\n",
    "    prompt += f\"PASSAGE: {passage_oneline}\\n\"\n",
    "\n",
    "print(prompt)"
   ]
  },
  {
   "cell_type": "code",
   "execution_count": 26,
   "id": "6b8b2778",
   "metadata": {
    "execution": {
     "iopub.execute_input": "2025-05-17T13:27:27.393487Z",
     "iopub.status.busy": "2025-05-17T13:27:27.393113Z",
     "iopub.status.idle": "2025-05-17T13:27:28.459038Z",
     "shell.execute_reply": "2025-05-17T13:27:28.458065Z"
    },
    "papermill": {
     "duration": 1.087072,
     "end_time": "2025-05-17T13:27:28.460655",
     "exception": false,
     "start_time": "2025-05-17T13:27:27.373583",
     "status": "completed"
    },
    "tags": []
   },
   "outputs": [
    {
     "data": {
      "text/markdown": [
       "If you are experiencing uneasiness after eating peanuts, it is possible you are having an allergic reaction. Allergies to foods like nuts are common and can cause symptoms that appear quickly. The passage mentions that treatments like antihistamines, decongestants, creams, and steroids can help manage allergies. In severe cases, immunotherapy may be recommended to gradually reduce sensitivity to allergens. To prevent future reactions, it is important to read food labels carefully to avoid peanuts and maintain good hygiene to minimize exposure to allergens. If the reaction is severe, seek urgent medical treatment.\n"
      ],
      "text/plain": [
       "<IPython.core.display.Markdown object>"
      ]
     },
     "execution_count": 26,
     "metadata": {},
     "output_type": "execute_result"
    }
   ],
   "source": [
    "# Generating in a proper format\n",
    "answer = client.models.generate_content(\n",
    "    model=\"gemini-2.0-flash\",\n",
    "    contents=prompt)\n",
    "\n",
    "Markdown(answer.text)"
   ]
  },
  {
   "cell_type": "markdown",
   "id": "53b93229",
   "metadata": {
    "papermill": {
     "duration": 0.017558,
     "end_time": "2025-05-17T13:27:28.496192",
     "exception": false,
     "start_time": "2025-05-17T13:27:28.478634",
     "status": "completed"
    },
    "tags": []
   },
   "source": [
    "# **Function Calling using SQLite database**\n",
    "\n",
    "In this AI-powered healthcare assistant project, **function calling with SQLite** was used to enable intelligent, database-backed responses to user queries. A local SQLite database named `aihealth.db` was created, and **two main tables** were designed:\n",
    "\n",
    "- `Symptoms` – stores symptom descriptions and severity levels.  \n",
    "- `Diagnoses` – contains corresponding diagnoses, treatments, medications, dosages, and side effects linked to symptoms.\n",
    "\n",
    "Using Python’s `sqlite3` module and SQL commands, these tables were populated with relevant medical data.\n",
    "\n",
    "To allow the Gemini model to interact with the database, **function calling was set up** with:\n",
    "- `list_tables()` – lists all available tables,\n",
    "- `display_table(table_name)` – shows table data,\n",
    "- `execute_query(query)` – runs custom SQL queries."
   ]
  },
  {
   "cell_type": "code",
   "execution_count": 27,
   "id": "3a8d1f6f",
   "metadata": {
    "execution": {
     "iopub.execute_input": "2025-05-17T13:27:28.532989Z",
     "iopub.status.busy": "2025-05-17T13:27:28.532643Z",
     "iopub.status.idle": "2025-05-17T13:27:31.388172Z",
     "shell.execute_reply": "2025-05-17T13:27:31.387411Z"
    },
    "papermill": {
     "duration": 2.87592,
     "end_time": "2025-05-17T13:27:31.389783",
     "exception": false,
     "start_time": "2025-05-17T13:27:28.513863",
     "status": "completed"
    },
    "tags": []
   },
   "outputs": [],
   "source": [
    "%load_ext sql\n",
    "%sql sqlite:///aihealth.db"
   ]
  },
  {
   "cell_type": "code",
   "execution_count": 28,
   "id": "86865113",
   "metadata": {
    "execution": {
     "iopub.execute_input": "2025-05-17T13:27:31.427644Z",
     "iopub.status.busy": "2025-05-17T13:27:31.427078Z",
     "iopub.status.idle": "2025-05-17T13:27:31.432642Z",
     "shell.execute_reply": "2025-05-17T13:27:31.431859Z"
    },
    "papermill": {
     "duration": 0.026243,
     "end_time": "2025-05-17T13:27:31.434033",
     "exception": false,
     "start_time": "2025-05-17T13:27:31.407790",
     "status": "completed"
    },
    "tags": []
   },
   "outputs": [],
   "source": [
    " %reload_ext sql"
   ]
  },
  {
   "cell_type": "markdown",
   "id": "4fe3eb6f",
   "metadata": {
    "papermill": {
     "duration": 0.017901,
     "end_time": "2025-05-17T13:27:31.470227",
     "exception": false,
     "start_time": "2025-05-17T13:27:31.452326",
     "status": "completed"
    },
    "tags": []
   },
   "source": [
    "Two tables, Symptoms and Diagnoses are created"
   ]
  },
  {
   "cell_type": "code",
   "execution_count": 29,
   "id": "9f2bd5f1",
   "metadata": {
    "execution": {
     "iopub.execute_input": "2025-05-17T13:27:31.506292Z",
     "iopub.status.busy": "2025-05-17T13:27:31.505977Z",
     "iopub.status.idle": "2025-05-17T13:27:31.553487Z",
     "shell.execute_reply": "2025-05-17T13:27:31.552641Z"
    },
    "papermill": {
     "duration": 0.067273,
     "end_time": "2025-05-17T13:27:31.554829",
     "exception": false,
     "start_time": "2025-05-17T13:27:31.487556",
     "status": "completed"
    },
    "tags": []
   },
   "outputs": [
    {
     "name": "stdout",
     "output_type": "stream",
     "text": [
      " * sqlite:///aihealth.db\n",
      "Done.\n",
      "Done.\n"
     ]
    },
    {
     "data": {
      "text/plain": [
       "[]"
      ]
     },
     "execution_count": 29,
     "metadata": {},
     "output_type": "execute_result"
    }
   ],
   "source": [
    "%%sql\n",
    "-- Creating the Symptoms Table\n",
    "CREATE TABLE Symptoms (\n",
    "    symptom_id INTEGER PRIMARY KEY AUTOINCREMENT,\n",
    "    symptom_description TEXT NOT NULL,\n",
    "    severity TEXT\n",
    ");\n",
    "\n",
    "-- Creating the Diagnoses Table\n",
    "CREATE TABLE Diagnoses (\n",
    "    diagnosis_id INTEGER PRIMARY KEY AUTOINCREMENT,\n",
    "    symptom_id INTEGER NOT NULL,\n",
    "    diagnosis TEXT NOT NULL,\n",
    "    treatment_description TEXT, -- Treatment added directly to Diagnoses\n",
    "    medication_name TEXT,       -- Medication added directly to Diagnoses\n",
    "    dosage TEXT,                -- Dosage for the medication\n",
    "    side_effects TEXT,          -- Side effects of the medication\n",
    "    FOREIGN KEY (symptom_id) REFERENCES Symptoms (symptom_id)\n",
    ");\n",
    "\n"
   ]
  },
  {
   "cell_type": "markdown",
   "id": "c2a2450b",
   "metadata": {
    "papermill": {
     "duration": 0.018308,
     "end_time": "2025-05-17T13:27:31.591337",
     "exception": false,
     "start_time": "2025-05-17T13:27:31.573029",
     "status": "completed"
    },
    "tags": []
   },
   "source": [
    "Once the tables are created, the tables are populated with relevant data"
   ]
  },
  {
   "cell_type": "code",
   "execution_count": 30,
   "id": "3c644489",
   "metadata": {
    "execution": {
     "iopub.execute_input": "2025-05-17T13:27:31.628395Z",
     "iopub.status.busy": "2025-05-17T13:27:31.628067Z",
     "iopub.status.idle": "2025-05-17T13:27:31.668448Z",
     "shell.execute_reply": "2025-05-17T13:27:31.667427Z"
    },
    "papermill": {
     "duration": 0.060753,
     "end_time": "2025-05-17T13:27:31.669895",
     "exception": false,
     "start_time": "2025-05-17T13:27:31.609142",
     "status": "completed"
    },
    "tags": []
   },
   "outputs": [
    {
     "name": "stdout",
     "output_type": "stream",
     "text": [
      " * sqlite:///aihealth.db\n",
      "12 rows affected.\n",
      "12 rows affected.\n"
     ]
    },
    {
     "data": {
      "text/plain": [
       "[]"
      ]
     },
     "execution_count": 30,
     "metadata": {},
     "output_type": "execute_result"
    }
   ],
   "source": [
    "%%sql\n",
    "-- Inserting data into Symptoms Table\n",
    "INSERT INTO Symptoms (symptom_description, severity) VALUES \n",
    "('Sore throat and runny nose', 'Mild'),\n",
    "('Fever and body aches', 'Moderate'),\n",
    "('Sneezing and itchy eyes', 'Mild'),\n",
    "('Headache and blurred vision', 'Moderate'),\n",
    "('Joint pain and stiffness', 'Severe'),\n",
    "('Throbbing headache and nausea', 'Moderate'),\n",
    "('Abdominal pain and bloating', 'Mild'),\n",
    "('Frequent urination and pain while urinating', 'Severe'),\n",
    "('Excess weight and fatigue', 'Moderate'),\n",
    "('Fatigue and dizziness', 'Severe'),\n",
    "('High temperature and chills', 'Moderate'),\n",
    "('Shortness of breath and wheezing', 'Severe');\n",
    "\n",
    "-- Inserting data into Diagnoses Table\n",
    "INSERT INTO Diagnoses (symptom_id, diagnosis, treatment_description, medication_name, dosage, side_effects) VALUES \n",
    "(1, 'Cold', 'Stay hydrated and rest.', 'Decongestant', '2 tablets daily', 'Drowsiness'),\n",
    "(2, 'Flu', 'Take paracetamol and drink fluids.', 'Paracetamol', '500 mg every 6 hours', 'None'),\n",
    "(3, 'Allergies', 'Use antihistamines and avoid allergens.', 'Antihistamine', '1 tablet daily', 'Dry mouth'),\n",
    "(4, 'High Blood Pressure', 'Monitor blood pressure and take prescribed medication.', 'Amlodipine', '5 mg daily', 'Dizziness'),\n",
    "(5, 'Arthritis', 'Apply physiotherapy and take anti-inflammatory drugs.', 'Ibuprofen', '200 mg every 8 hours', 'Stomach upset'),\n",
    "(6, 'Migraine', 'Use pain relievers and avoid bright light.', 'Sumatriptan', '50 mg as needed', 'Tingling sensation'),\n",
    "(7, 'Irritable Bowel Syndrome', 'Make dietary changes and reduce stress.', 'Probiotic Supplement', '1 capsule daily', 'None'),\n",
    "(8, 'Urinary Tract Infection', 'Take antibiotics and drink plenty of water.', 'Nitrofurantoin', '100 mg twice daily', 'Nausea'),\n",
    "(9, 'Obesity', 'Adopt a low-calorie diet and exercise regularly.', 'Orlistat', '120 mg with meals', 'Abdominal discomfort'),\n",
    "(10, 'Chronic Fatigue Syndrome', 'Practice energy pacing and seek therapy.', 'Modafinil', '200 mg daily', 'Headache'),\n",
    "(11, 'Fever', 'Take fever-reducing medication and rest.', 'Ibuprofen', '200 mg every 8 hours', 'Stomach upset'),\n",
    "(12, 'Asthma', 'Use inhalers and practice breathing exercises.', 'Salbutamol Inhaler', '2 puffs every 4 hours', 'Mild throat irritation');"
   ]
  },
  {
   "cell_type": "markdown",
   "id": "2bb0e59a",
   "metadata": {
    "papermill": {
     "duration": 0.018184,
     "end_time": "2025-05-17T13:27:31.706020",
     "exception": false,
     "start_time": "2025-05-17T13:27:31.687836",
     "status": "completed"
    },
    "tags": []
   },
   "source": [
    "Connection to a local SQLite database is established so the AI assistant can interact with and query health-related data. This enables retrieval of relevant information like symptoms, diagnoses, and treatments for user queries."
   ]
  },
  {
   "cell_type": "code",
   "execution_count": 31,
   "id": "2f9e012d",
   "metadata": {
    "execution": {
     "iopub.execute_input": "2025-05-17T13:27:31.744800Z",
     "iopub.status.busy": "2025-05-17T13:27:31.744096Z",
     "iopub.status.idle": "2025-05-17T13:27:31.748480Z",
     "shell.execute_reply": "2025-05-17T13:27:31.747625Z"
    },
    "papermill": {
     "duration": 0.025015,
     "end_time": "2025-05-17T13:27:31.749702",
     "exception": false,
     "start_time": "2025-05-17T13:27:31.724687",
     "status": "completed"
    },
    "tags": []
   },
   "outputs": [],
   "source": [
    "# Creating a connection\n",
    "import sqlite3\n",
    "\n",
    "db_file = \"aihealth.db\"\n",
    "db_conn = sqlite3.connect(db_file)"
   ]
  },
  {
   "cell_type": "code",
   "execution_count": 32,
   "id": "dfc4d5cb",
   "metadata": {
    "execution": {
     "iopub.execute_input": "2025-05-17T13:27:31.786952Z",
     "iopub.status.busy": "2025-05-17T13:27:31.786150Z",
     "iopub.status.idle": "2025-05-17T13:27:31.793513Z",
     "shell.execute_reply": "2025-05-17T13:27:31.792683Z"
    },
    "papermill": {
     "duration": 0.027433,
     "end_time": "2025-05-17T13:27:31.794892",
     "exception": false,
     "start_time": "2025-05-17T13:27:31.767459",
     "status": "completed"
    },
    "tags": []
   },
   "outputs": [
    {
     "name": "stdout",
     "output_type": "stream",
     "text": [
      "List of Tables created: \n",
      "- DB CALL: list_tables()\n"
     ]
    },
    {
     "data": {
      "text/plain": [
       "['Symptoms', 'sqlite_sequence', 'Diagnoses']"
      ]
     },
     "execution_count": 32,
     "metadata": {},
     "output_type": "execute_result"
    }
   ],
   "source": [
    "# Displaying the names of the tables \n",
    "def list_tables() -> list[str]:\n",
    "    \"\"\"Retrieve the names of all tables in the database.\"\"\"\n",
    "    # Include print logging statements so you can see when functions are being called.\n",
    "    print('- DB CALL: list_tables()')\n",
    "\n",
    "    cursor = db_conn.cursor()\n",
    "\n",
    "    # Fetch the table names.\n",
    "    cursor.execute(\"SELECT name FROM sqlite_master WHERE type='table';\")\n",
    "\n",
    "    tables = cursor.fetchall()\n",
    "    return [t[0] for t in tables]\n",
    "\n",
    "print('List of Tables created: ')\n",
    "list_tables()"
   ]
  },
  {
   "cell_type": "code",
   "execution_count": 33,
   "id": "8e66a8da",
   "metadata": {
    "execution": {
     "iopub.execute_input": "2025-05-17T13:27:31.831985Z",
     "iopub.status.busy": "2025-05-17T13:27:31.831669Z",
     "iopub.status.idle": "2025-05-17T13:27:31.837808Z",
     "shell.execute_reply": "2025-05-17T13:27:31.836925Z"
    },
    "papermill": {
     "duration": 0.026271,
     "end_time": "2025-05-17T13:27:31.839013",
     "exception": false,
     "start_time": "2025-05-17T13:27:31.812742",
     "status": "completed"
    },
    "tags": []
   },
   "outputs": [
    {
     "name": "stdout",
     "output_type": "stream",
     "text": [
      "Display table Symptoms\n",
      "(1, 'Sore throat and runny nose', 'Mild')\n",
      "(2, 'Fever and body aches', 'Moderate')\n",
      "(3, 'Sneezing and itchy eyes', 'Mild')\n",
      "(4, 'Headache and blurred vision', 'Moderate')\n",
      "(5, 'Joint pain and stiffness', 'Severe')\n",
      "(6, 'Throbbing headache and nausea', 'Moderate')\n",
      "(7, 'Abdominal pain and bloating', 'Mild')\n",
      "(8, 'Frequent urination and pain while urinating', 'Severe')\n",
      "(9, 'Excess weight and fatigue', 'Moderate')\n",
      "(10, 'Fatigue and dizziness', 'Severe')\n",
      "(11, 'High temperature and chills', 'Moderate')\n",
      "(12, 'Shortness of breath and wheezing', 'Severe')\n",
      "\n"
     ]
    }
   ],
   "source": [
    "# Displaying the data in a table\n",
    "def display_table(table_name: str) -> list[tuple]:\n",
    "    \"\"\"Retrieve all the rows from a specific table\"\"\"\n",
    "    print(f'Display table {table_name}')\n",
    "\n",
    "    cursor = db_conn.cursor()\n",
    "\n",
    "    # Fetch the table names.\n",
    "    cursor.execute(f\"SELECT * FROM {table_name};\")\n",
    "\n",
    "    rows = cursor.fetchall()\n",
    "    for row in rows:\n",
    "        print(row)\n",
    "    print()\n",
    "\n",
    "display_table(\"Symptoms\")\n"
   ]
  },
  {
   "cell_type": "code",
   "execution_count": 34,
   "id": "47db4f3d",
   "metadata": {
    "execution": {
     "iopub.execute_input": "2025-05-17T13:27:31.876678Z",
     "iopub.status.busy": "2025-05-17T13:27:31.876049Z",
     "iopub.status.idle": "2025-05-17T13:27:31.883967Z",
     "shell.execute_reply": "2025-05-17T13:27:31.883237Z"
    },
    "papermill": {
     "duration": 0.028108,
     "end_time": "2025-05-17T13:27:31.885215",
     "exception": false,
     "start_time": "2025-05-17T13:27:31.857107",
     "status": "completed"
    },
    "tags": []
   },
   "outputs": [
    {
     "name": "stdout",
     "output_type": "stream",
     "text": [
      " - DB CALL: execute_query(select diagnosis from Diagnoses)\n"
     ]
    },
    {
     "data": {
      "text/plain": [
       "[('Cold',),\n",
       " ('Flu',),\n",
       " ('Allergies',),\n",
       " ('High Blood Pressure',),\n",
       " ('Arthritis',),\n",
       " ('Migraine',),\n",
       " ('Irritable Bowel Syndrome',),\n",
       " ('Urinary Tract Infection',),\n",
       " ('Obesity',),\n",
       " ('Chronic Fatigue Syndrome',),\n",
       " ('Fever',),\n",
       " ('Asthma',)]"
      ]
     },
     "execution_count": 34,
     "metadata": {},
     "output_type": "execute_result"
    }
   ],
   "source": [
    "def execute_query(query: str) -> list[tuple]:\n",
    "    \"\"\"Execute an SQL statement, returning the results.\"\"\"\n",
    "    print(f' - DB CALL: execute_query({query})')\n",
    "\n",
    "    cursor = db_conn.cursor()\n",
    "\n",
    "    cursor.execute(query)\n",
    "    return cursor.fetchall()\n",
    "\n",
    "\n",
    "execute_query(\"select diagnosis from Diagnoses\")"
   ]
  },
  {
   "cell_type": "markdown",
   "id": "17ab049f",
   "metadata": {
    "papermill": {
     "duration": 0.018389,
     "end_time": "2025-05-17T13:27:31.922219",
     "exception": false,
     "start_time": "2025-05-17T13:27:31.903830",
     "status": "completed"
    },
    "tags": []
   },
   "source": [
    "### Enabling the assistant to Interact with a Healthcare Database\n",
    "\n",
    "The healthcare assistant powered by AI is intended to reply to user queries through an interaction with an underlying database. The methodology involves:\n",
    "\n",
    "- Functions `list_tables`, `display_table`, and `execute_query` are made available as tools. These enable the GenAI model to traverse database schema and retrieve data based on user queries.\n",
    "\n",
    "- A well-defined system instruction is given to the model, instructing it to translate user health-related queries to SQL queries, utilize the tools to pull data, and output in a plain and useful manner.\n",
    "\n",
    "This facilitates the smooth conversational interface whereby the model is able to conduct real-time lookups (such as treatments, medications, or side effects) in real-time from the database via function calling."
   ]
  },
  {
   "cell_type": "code",
   "execution_count": 35,
   "id": "96a6dc4b",
   "metadata": {
    "execution": {
     "iopub.execute_input": "2025-05-17T13:27:31.960309Z",
     "iopub.status.busy": "2025-05-17T13:27:31.959982Z",
     "iopub.status.idle": "2025-05-17T13:27:32.088486Z",
     "shell.execute_reply": "2025-05-17T13:27:32.087658Z"
    },
    "papermill": {
     "duration": 0.14999,
     "end_time": "2025-05-17T13:27:32.090215",
     "exception": false,
     "start_time": "2025-05-17T13:27:31.940225",
     "status": "completed"
    },
    "tags": []
   },
   "outputs": [],
   "source": [
    "# Define the database interaction tools\n",
    "db_tools = [list_tables, display_table, execute_query]\n",
    "\n",
    "# Instruction for the AI-powered healthcare assistant\n",
    "instruction = \"\"\"You are a helpful chatbot designed to interact with an SQL database\n",
    "for healthcare management. Your role is to assist users by answering their health-related \n",
    "questions using the information stored in the database. You will turn the users' questions \n",
    "into SQL queries using the tools available. After retrieving the relevant data, you will \n",
    "interpret it to provide meaningful answers in an easy-to-understand way.\n",
    "\n",
    "Use list_tables to see what tables are present, display_table to see what data is present \n",
    "in it, and execute_query to issue an SQL SELECT query.\n",
    "\n",
    "Tha table Diagnoses contains the columns: symptom_id, diagnosis, treatment_description, medication_name, dosage, side_effects.\"\"\"\"\"\n",
    "\n",
    "# Initializing the GenAI client\n",
    "client = genai.Client(api_key=GOOGLE_API_KEY)\n",
    "\n",
    "# Start a chat session with automatic function calling enabled\n",
    "chat = client.chats.create(\n",
    "    model=\"gemini-2.0-flash\",\n",
    "    config=types.GenerateContentConfig(\n",
    "        system_instruction=instruction,\n",
    "        tools=db_tools,\n",
    "    ),\n",
    ")"
   ]
  },
  {
   "cell_type": "code",
   "execution_count": 36,
   "id": "fc85f737",
   "metadata": {
    "execution": {
     "iopub.execute_input": "2025-05-17T13:27:32.131208Z",
     "iopub.status.busy": "2025-05-17T13:27:32.130904Z",
     "iopub.status.idle": "2025-05-17T13:27:33.236702Z",
     "shell.execute_reply": "2025-05-17T13:27:33.235742Z"
    },
    "papermill": {
     "duration": 1.129179,
     "end_time": "2025-05-17T13:27:33.238701",
     "exception": false,
     "start_time": "2025-05-17T13:27:32.109522",
     "status": "completed"
    },
    "tags": []
   },
   "outputs": [
    {
     "name": "stdout",
     "output_type": "stream",
     "text": [
      " - DB CALL: execute_query(SELECT treatment_description, medication_name FROM Diagnoses WHERE diagnosis = 'Fever')\n",
      "The recommended treatment for fever is to take fever-reducing medication and rest. The suggested medication is Ibuprofen.\n",
      "\n"
     ]
    }
   ],
   "source": [
    "response = chat.send_message(\"What are the treatments and medications recommended for fever?\")\n",
    "print(response.text)"
   ]
  },
  {
   "cell_type": "code",
   "execution_count": 37,
   "id": "628c61ad",
   "metadata": {
    "execution": {
     "iopub.execute_input": "2025-05-17T13:27:33.279695Z",
     "iopub.status.busy": "2025-05-17T13:27:33.279080Z",
     "iopub.status.idle": "2025-05-17T13:27:34.165435Z",
     "shell.execute_reply": "2025-05-17T13:27:34.164424Z"
    },
    "papermill": {
     "duration": 0.908576,
     "end_time": "2025-05-17T13:27:34.166960",
     "exception": false,
     "start_time": "2025-05-17T13:27:33.258384",
     "status": "completed"
    },
    "tags": []
   },
   "outputs": [
    {
     "name": "stdout",
     "output_type": "stream",
     "text": [
      " - DB CALL: execute_query(SELECT treatment_description FROM Diagnoses WHERE diagnosis = 'Arthritis')\n",
      "The recommended treatment for Arthritis is physiotherapy and taking anti-inflammatory drugs.\n",
      "\n"
     ]
    }
   ],
   "source": [
    "response = chat.send_message(\"What are the recommended treatments for Arthritis?\")\n",
    "print(response.text)"
   ]
  },
  {
   "cell_type": "code",
   "execution_count": 38,
   "id": "f4339b79",
   "metadata": {
    "execution": {
     "iopub.execute_input": "2025-05-17T13:27:34.206090Z",
     "iopub.status.busy": "2025-05-17T13:27:34.205707Z",
     "iopub.status.idle": "2025-05-17T13:27:35.439055Z",
     "shell.execute_reply": "2025-05-17T13:27:35.438101Z"
    },
    "papermill": {
     "duration": 1.255126,
     "end_time": "2025-05-17T13:27:35.440570",
     "exception": false,
     "start_time": "2025-05-17T13:27:34.185444",
     "status": "completed"
    },
    "tags": []
   },
   "outputs": [
    {
     "name": "stdout",
     "output_type": "stream",
     "text": [
      " - DB CALL: execute_query(SELECT side_effects FROM Diagnoses WHERE medication_name = 'Modafinil')\n",
      "The side effect of Modafinil is headache.\n",
      "\n"
     ]
    }
   ],
   "source": [
    "response = chat.send_message(\"What are the side effects of the medication Modafinil?\")\n",
    "print(response.text)"
   ]
  },
  {
   "cell_type": "markdown",
   "id": "e307368e",
   "metadata": {
    "papermill": {
     "duration": 0.018047,
     "end_time": "2025-05-17T13:27:35.476937",
     "exception": false,
     "start_time": "2025-05-17T13:27:35.458890",
     "status": "completed"
    },
    "tags": []
   },
   "source": [
    "### **AI-Powered Healthcare Assistant**\n",
    "\n",
    "This AI healthcare assistant connects to a SQLite database (`aihealth.db`) to provide accurate health-related information. \n",
    "It uses tools to query data from interconnected tables on symptoms and diagnoses. \n",
    "With GenAI integration, it converts user queries into SQL commands, fetches details like treatments and side effects, and presents clear, actionable responses. Its design ensures efficiency, adaptability, and user-friendly interaction, enhancing healthcare accessibility and diagnostics. Let me know if you'd like more details!\n",
    "\n",
    "The healthcare assistant:\n",
    "- Converts user requests concerned with healthcare into SQL query commands with the purpose of retrieving suitable information from a database. \n",
    "- Calls the database through functions such as `list_tables`, `display_table`, and `execute_query` in a way that health data can be retrieved and processed easily.\n",
    "- Joins corresponding tables, i.e., `Symptoms` and `Diagnoses`, and matches symptoms with equivalent diagnoses, treatments, drugs, and side effects. \n"
   ]
  },
  {
   "cell_type": "code",
   "execution_count": 39,
   "id": "24504557",
   "metadata": {
    "execution": {
     "iopub.execute_input": "2025-05-17T13:27:35.514238Z",
     "iopub.status.busy": "2025-05-17T13:27:35.513943Z",
     "iopub.status.idle": "2025-05-17T13:27:35.518452Z",
     "shell.execute_reply": "2025-05-17T13:27:35.517610Z"
    },
    "papermill": {
     "duration": 0.024926,
     "end_time": "2025-05-17T13:27:35.519910",
     "exception": false,
     "start_time": "2025-05-17T13:27:35.494984",
     "status": "completed"
    },
    "tags": []
   },
   "outputs": [],
   "source": [
    "import sqlite3\n",
    "from google import genai\n",
    "from google.genai import types\n",
    "from typing import List, Dict, Any\n",
    "from pydantic import BaseModel"
   ]
  },
  {
   "cell_type": "code",
   "execution_count": 40,
   "id": "5f8a7860",
   "metadata": {
    "execution": {
     "iopub.execute_input": "2025-05-17T13:27:35.558173Z",
     "iopub.status.busy": "2025-05-17T13:27:35.557804Z",
     "iopub.status.idle": "2025-05-17T13:27:35.561904Z",
     "shell.execute_reply": "2025-05-17T13:27:35.561042Z"
    },
    "papermill": {
     "duration": 0.02482,
     "end_time": "2025-05-17T13:27:35.563227",
     "exception": false,
     "start_time": "2025-05-17T13:27:35.538407",
     "status": "completed"
    },
    "tags": []
   },
   "outputs": [],
   "source": [
    "# Database setup\n",
    "db_file = \"aihealth.db\"\n",
    "db_conn = sqlite3.connect(db_file)"
   ]
  },
  {
   "cell_type": "markdown",
   "id": "5c25e5a8",
   "metadata": {
    "papermill": {
     "duration": 0.018294,
     "end_time": "2025-05-17T13:27:35.600325",
     "exception": false,
     "start_time": "2025-05-17T13:27:35.582031",
     "status": "completed"
    },
    "tags": []
   },
   "source": [
    "This virtual healthcare assistant interacts with an **SQL database** to help users with health-related inquiries. It converts user questions into SQL queries, retrieves data like **symptoms**, **diagnoses**, **treatments**, and **medication details**, and provides user-friendly responses by joining relevant database tables. \n",
    "\n",
    "Designed to ensure accuracy and accessibility, it operates seamlessly using defined tools for listing tables, displaying data, and executing queries. Let me know if you'd like to explore anything specific further!"
   ]
  },
  {
   "cell_type": "code",
   "execution_count": 41,
   "id": "ce8e33da",
   "metadata": {
    "execution": {
     "iopub.execute_input": "2025-05-17T13:27:35.638821Z",
     "iopub.status.busy": "2025-05-17T13:27:35.638111Z",
     "iopub.status.idle": "2025-05-17T13:27:35.763280Z",
     "shell.execute_reply": "2025-05-17T13:27:35.762388Z"
    },
    "papermill": {
     "duration": 0.146299,
     "end_time": "2025-05-17T13:27:35.764821",
     "exception": false,
     "start_time": "2025-05-17T13:27:35.618522",
     "status": "completed"
    },
    "tags": []
   },
   "outputs": [],
   "source": [
    "# Define the database interaction tools\n",
    "db_tools = [list_tables, display_table, execute_query]\n",
    "\n",
    "# Instruction for the AI-powered healthcare assistant\n",
    "instruction = \"\"\"\n",
    "You are a virtual healthcare assistant designed to interact with an SQL database for effective healthcare management. Your primary role is to help users by answering their health-related questions using the information stored in the database.\n",
    "\n",
    "Your Responsibilities:\n",
    "Query Interpretation: Convert user questions into SQL queries using the available tools.\n",
    "Data Retrieval: Access the database to retrieve relevant information based on the queries you generate.\n",
    "User -Friendly Responses: Interpret the retrieved data and provide clear, meaningful answers that are easy for users to understand.\n",
    "Available Tools:\n",
    "list_tables: Use this tool to display the names of all tables in the database.\n",
    "display_table(table_name): Use this tool to view all data within a specific table.\n",
    "execute_query(query): Use this tool to run an SQL SELECT query and obtain specific information.\n",
    "Database Structure:\n",
    "The database contains a table named Symptoms and Diagnoses with the following columns:\n",
    "\n",
    "The table Diagnoses includes:\n",
    "symptom_id: Unique identifier for each symptom.\n",
    "diagnosis: The medical diagnosis associated with the symptoms.\n",
    "treatment_description: Recommended treatment for the diagnosis.\n",
    "medication_name: Name of the medication prescribed.\n",
    "dosage: Dosage instructions for the medication.\n",
    "side_effects: Possible side effects of the medication.\n",
    "\n",
    "The table Symptoms includes:\n",
    "symptom_description: description about the symptoms\n",
    "severity: severity of the symptoms\n",
    "\n",
    "To provide comprehensive answers, you will often need to join the Symptoms and Diagnoses tables. \n",
    "This allows you to correlate symptoms with their respective diagnoses, treatments, and medications. \n",
    "For example, you can retrieve a diagnosis and its associated treatment by joining these tables on the symptom_id.\n",
    "\"\"\"\n",
    "\n",
    "# Initializing the GenAI client\n",
    "client = genai.Client(api_key=GOOGLE_API_KEY)\n",
    "\n",
    "# Start a chat session with automatic function calling enabled\n",
    "chat = client.chats.create(\n",
    "    model=\"gemini-2.0-flash\",\n",
    "    config=types.GenerateContentConfig(\n",
    "        system_instruction=instruction,\n",
    "        tools=db_tools,\n",
    "        temperature=0.3,\n",
    "        top_p=0.9,\n",
    "    ),\n",
    ")"
   ]
  },
  {
   "cell_type": "markdown",
   "id": "63077fdb",
   "metadata": {
    "papermill": {
     "duration": 0.018115,
     "end_time": "2025-05-17T13:27:35.801657",
     "exception": false,
     "start_time": "2025-05-17T13:27:35.783542",
     "status": "completed"
    },
    "tags": []
   },
   "source": [
    "The function `start_chat` starts a chatbot session, takes user input and generates responses."
   ]
  },
  {
   "cell_type": "code",
   "execution_count": 42,
   "id": "11fddbb2",
   "metadata": {
    "execution": {
     "iopub.execute_input": "2025-05-17T13:27:35.839867Z",
     "iopub.status.busy": "2025-05-17T13:27:35.839236Z",
     "iopub.status.idle": "2025-05-17T13:27:35.844431Z",
     "shell.execute_reply": "2025-05-17T13:27:35.843573Z"
    },
    "papermill": {
     "duration": 0.025843,
     "end_time": "2025-05-17T13:27:35.845815",
     "exception": false,
     "start_time": "2025-05-17T13:27:35.819972",
     "status": "completed"
    },
    "tags": []
   },
   "outputs": [],
   "source": [
    "import random\n",
    "# Interactive chat session\n",
    "start_prompt=[\"How can I support your health today?\",\"I'm here to help—what would you like to know?\",\"How can I assist you today?\",\" Just ask your question!\",\"What health concern would you like to talk about?\"]\n",
    "\n",
    "def start_chat(user_input):\n",
    "    print(random.choice(start_prompt))\n",
    "    print(\"User: \"+user_input)\n",
    "    response = chat.send_message(user_input)\n",
    "    print(response.text)"
   ]
  },
  {
   "cell_type": "code",
   "execution_count": 43,
   "id": "4cb2a19c",
   "metadata": {
    "execution": {
     "iopub.execute_input": "2025-05-17T13:27:35.883978Z",
     "iopub.status.busy": "2025-05-17T13:27:35.883459Z",
     "iopub.status.idle": "2025-05-17T13:27:37.153104Z",
     "shell.execute_reply": "2025-05-17T13:27:37.151955Z"
    },
    "papermill": {
     "duration": 1.290612,
     "end_time": "2025-05-17T13:27:37.154839",
     "exception": false,
     "start_time": "2025-05-17T13:27:35.864227",
     "status": "completed"
    },
    "tags": []
   },
   "outputs": [
    {
     "name": "stdout",
     "output_type": "stream",
     "text": [
      "What health concern would you like to talk about?\n",
      "User: I am having joint pain. How should I treat it?\n",
      " - DB CALL: execute_query(SELECT t1.treatment_description FROM Diagnoses t1 JOIN Symptoms t2 ON t1.symptom_id = t2.symptom_id WHERE t2.symptom_description LIKE '%joint pain%')\n",
      "Apply physiotherapy and take anti-inflammatory drugs.\n",
      "\n"
     ]
    }
   ],
   "source": [
    "prompt=\"I am having joint pain. How should I treat it?\"\n",
    "start_chat(prompt)"
   ]
  },
  {
   "cell_type": "code",
   "execution_count": 44,
   "id": "346b5b65",
   "metadata": {
    "execution": {
     "iopub.execute_input": "2025-05-17T13:27:37.195198Z",
     "iopub.status.busy": "2025-05-17T13:27:37.194231Z",
     "iopub.status.idle": "2025-05-17T13:27:38.413318Z",
     "shell.execute_reply": "2025-05-17T13:27:38.412160Z"
    },
    "papermill": {
     "duration": 1.241049,
     "end_time": "2025-05-17T13:27:38.414917",
     "exception": false,
     "start_time": "2025-05-17T13:27:37.173868",
     "status": "completed"
    },
    "tags": []
   },
   "outputs": [
    {
     "name": "stdout",
     "output_type": "stream",
     "text": [
      "I'm here to help—what would you like to know?\n",
      "User: I also have high temperature. What medicine should I take?\n",
      " - DB CALL: execute_query(SELECT t1.medication_name FROM Diagnoses t1 JOIN Symptoms t2 ON t1.symptom_id = t2.symptom_id WHERE t2.symptom_description LIKE '%high temperature%')\n",
      "Ibuprofen is the recommended medication.\n",
      "\n"
     ]
    }
   ],
   "source": [
    "prompt=\"I also have high temperature. What medicine should I take?\"\n",
    "start_chat(prompt)"
   ]
  },
  {
   "cell_type": "code",
   "execution_count": 45,
   "id": "a2e2119f",
   "metadata": {
    "execution": {
     "iopub.execute_input": "2025-05-17T13:27:38.457091Z",
     "iopub.status.busy": "2025-05-17T13:27:38.456769Z",
     "iopub.status.idle": "2025-05-17T13:27:39.695027Z",
     "shell.execute_reply": "2025-05-17T13:27:39.693858Z"
    },
    "papermill": {
     "duration": 1.262392,
     "end_time": "2025-05-17T13:27:39.696929",
     "exception": false,
     "start_time": "2025-05-17T13:27:38.434537",
     "status": "completed"
    },
    "tags": []
   },
   "outputs": [
    {
     "name": "stdout",
     "output_type": "stream",
     "text": [
      "How can I assist you today?\n",
      "User: What are the side effects of Ibuprofen?\n",
      " - DB CALL: execute_query(SELECT side_effects FROM Diagnoses WHERE medication_name LIKE 'Ibuprofen')\n",
      "The side effects of Ibuprofen include stomach upset.\n",
      "\n"
     ]
    }
   ],
   "source": [
    "prompt=\"What are the side effects of Ibuprofen?\"\n",
    "start_chat(prompt)"
   ]
  },
  {
   "cell_type": "code",
   "execution_count": 46,
   "id": "a8d2d314",
   "metadata": {
    "execution": {
     "iopub.execute_input": "2025-05-17T13:27:39.737875Z",
     "iopub.status.busy": "2025-05-17T13:27:39.736983Z",
     "iopub.status.idle": "2025-05-17T13:27:41.268778Z",
     "shell.execute_reply": "2025-05-17T13:27:41.267629Z"
    },
    "papermill": {
     "duration": 1.553735,
     "end_time": "2025-05-17T13:27:41.270421",
     "exception": false,
     "start_time": "2025-05-17T13:27:39.716686",
     "status": "completed"
    },
    "tags": []
   },
   "outputs": [
    {
     "name": "stdout",
     "output_type": "stream",
     "text": [
      "How can I support your health today?\n",
      "User: I am experiencing headache and blurred vision.What illness do i have and how should I treat it?\n",
      " - DB CALL: execute_query(SELECT t1.diagnosis, t1.treatment_description FROM Diagnoses t1 JOIN Symptoms t2 ON t1.symptom_id = t2.symptom_id WHERE t2.symptom_description LIKE '%headache%' AND t2.symptom_description LIKE '%blurred vision%')\n",
      "Based on your symptoms, you may have High Blood Pressure. The recommended treatment is to monitor blood pressure and take prescribed medication.\n",
      "\n"
     ]
    }
   ],
   "source": [
    "prompt=\"I am experiencing headache and blurred vision.What illness do i have and how should I treat it?\"\n",
    "start_chat(prompt)"
   ]
  },
  {
   "cell_type": "markdown",
   "id": "629cfaea",
   "metadata": {
    "papermill": {
     "duration": 0.019201,
     "end_time": "2025-05-17T13:27:41.309701",
     "exception": false,
     "start_time": "2025-05-17T13:27:41.290500",
     "status": "completed"
    },
    "tags": []
   },
   "source": [
    "# **Conclusion**\n",
    "\n",
    "\n",
    "\n",
    "## Summary of the Project\n",
    "\n",
    "This project presents an AI-powered healthcare assistant that leverages **Retrieval-Augmented Generation (RAG)** to provide reliable, context-aware responses to user queries related to health conditions, symptoms, and treatments. By integrating **LangChain**, **ChromaDB**, and **OpenAI’s language models**, the system retrieves relevant information from publicly available healthcare documents sourced from **NHS Inform** and generates informative responses. This approach ensures that the answers are grounded in trusted data, making the assistant both explainable and useful for general healthcare awareness.\n",
    "\n",
    "\n",
    "## Use Case Value \n",
    "\n",
    "The assistant serves as a bridge between medical knowledge and public understanding, making healthcare information more accessible to everyday users. It can be particularly valuable for:\n",
    "\n",
    "* Individuals seeking initial understanding of medical symptoms or conditions.\n",
    "* Students and learners looking for simplified, accurate health information.\n",
    "* Healthcare support systems where factual and fast retrieval of medical insights is needed.\n",
    "\n",
    "\n",
    "## Next Steps?\n",
    "\n",
    "To enhance the functionality, usability, and scalability of the assistant, the following improvements are planned:\n",
    "\n",
    "* **User Interface Integration**: Build a frontend using Streamlit or Gradio for interactive access.\n",
    "* **Multi-turn Conversations**: Add memory modules to enable contextual dialogues across multiple queries.\n",
    "* **Authentication**: Add basic authentication for tracking user sessions or personalizing responses.\n",
    "* **Deployment**: Host the assistant on platforms like Hugging Face Spaces or Streamlit Cloud.\n",
    "* **Model Flexibility**: Allow switching between different LLM providers (e.g., OpenAI, Cohere, Hugging Face).\n",
    "* **Future Expansion**: Explore adding multimodal capabilities (e.g., medical image support) for richer functionality."
   ]
  },
  {
   "cell_type": "code",
   "execution_count": null,
   "id": "8884be05",
   "metadata": {
    "papermill": {
     "duration": 0.019151,
     "end_time": "2025-05-17T13:27:41.347970",
     "exception": false,
     "start_time": "2025-05-17T13:27:41.328819",
     "status": "completed"
    },
    "tags": []
   },
   "outputs": [],
   "source": []
  }
 ],
 "metadata": {
  "kaggle": {
   "accelerator": "none",
   "dataSources": [],
   "dockerImageVersionId": 31012,
   "isGpuEnabled": false,
   "isInternetEnabled": true,
   "language": "python",
   "sourceType": "notebook"
  },
  "kernelspec": {
   "display_name": "Python 3",
   "language": "python",
   "name": "python3"
  },
  "language_info": {
   "codemirror_mode": {
    "name": "ipython",
    "version": 3
   },
   "file_extension": ".py",
   "mimetype": "text/x-python",
   "name": "python",
   "nbconvert_exporter": "python",
   "pygments_lexer": "ipython3",
   "version": "3.11.11"
  },
  "papermill": {
   "default_parameters": {},
   "duration": 133.408421,
   "end_time": "2025-05-17T13:27:42.990913",
   "environment_variables": {},
   "exception": null,
   "input_path": "__notebook__.ipynb",
   "output_path": "__notebook__.ipynb",
   "parameters": {},
   "start_time": "2025-05-17T13:25:29.582492",
   "version": "2.6.0"
  }
 },
 "nbformat": 4,
 "nbformat_minor": 5
}
